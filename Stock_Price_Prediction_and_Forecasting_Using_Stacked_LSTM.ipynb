{
  "nbformat": 4,
  "nbformat_minor": 0,
  "metadata": {
    "colab": {
      "provenance": [],
      "authorship_tag": "ABX9TyMEaO2AmSKTUCEJY4E+49Q3"
    },
    "kernelspec": {
      "name": "python3",
      "display_name": "Python 3"
    },
    "language_info": {
      "name": "python"
    }
  },
  "cells": [
    {
      "cell_type": "markdown",
      "source": [
        "Steps to follow:\n",
        "1. Collect the stock data -- Apple\n",
        "2. Preprocess the Data- Train and Test\n",
        "3. Create a Stacked LSTM model\n",
        "4. Predict the test data and plot the output\n",
        "5. Predict the future 30 days and plot the output"
      ],
      "metadata": {
        "id": "e-LP2gSVuII7"
      }
    },
    {
      "cell_type": "code",
      "execution_count": null,
      "metadata": {
        "id": "VdzCVat3sz6j"
      },
      "outputs": [],
      "source": [
        "# Data Collection\n",
        "import pandas_datareader as pdr\n",
        "import pandas as pd\n",
        "import matplotlib.pyplot as plt\n",
        "import numpy as np\n",
        "from sklearn.preprocessing import MinMaxScaler\n",
        "\n",
        "import tensorflow as tf\n",
        "from tensorflow.keras.models import Sequential\n",
        "from tensorflow.keras.layers import Dense\n",
        "from tensorflow.keras.layers import LSTM\n",
        "\n",
        "import math\n",
        "from sklearn.metrics import mean_squared_error\n",
        "\n",
        "import matplotlib.pyplot as plt"
      ]
    },
    {
      "cell_type": "code",
      "source": [
        "df = pdr.get_data_tiingo('AAPL', api_key='c0b71604c19181cf82317e895e64fbcc9d1c3326')\n",
        "df.to_csv('AAPL.csv')"
      ],
      "metadata": {
        "colab": {
          "base_uri": "https://localhost:8080/"
        },
        "id": "EWua6OGqvYDD",
        "outputId": "82f8052c-e717-4bc0-9d66-36353c711de9"
      },
      "execution_count": null,
      "outputs": [
        {
          "output_type": "stream",
          "name": "stderr",
          "text": [
            "/usr/local/lib/python3.9/dist-packages/pandas_datareader/tiingo.py:234: FutureWarning: In a future version of pandas all arguments of concat except for the argument 'objs' will be keyword-only.\n",
            "  return pd.concat(dfs, self._concat_axis)\n"
          ]
        }
      ]
    },
    {
      "cell_type": "code",
      "source": [
        "df = pd.read_csv('AAPL.csv')\n",
        "df.head()"
      ],
      "metadata": {
        "colab": {
          "base_uri": "https://localhost:8080/",
          "height": 357
        },
        "id": "UYl30Infv0nf",
        "outputId": "dc862187-b9c6-4e4e-a61c-ab35dd270426"
      },
      "execution_count": null,
      "outputs": [
        {
          "output_type": "execute_result",
          "data": {
            "text/plain": [
              "  symbol                       date   close    high     low    open    volume  \\\n",
              "0   AAPL  2018-03-22 00:00:00+00:00  168.85  172.68  168.60  170.00  41051076   \n",
              "1   AAPL  2018-03-23 00:00:00+00:00  164.94  169.92  164.94  168.39  40248954   \n",
              "2   AAPL  2018-03-26 00:00:00+00:00  172.77  173.10  166.44  168.07  36272617   \n",
              "3   AAPL  2018-03-27 00:00:00+00:00  168.34  175.15  166.92  173.68  38962839   \n",
              "4   AAPL  2018-03-28 00:00:00+00:00  166.48  170.02  165.19  167.25  41668545   \n",
              "\n",
              "    adjClose    adjHigh     adjLow    adjOpen  adjVolume  divCash  splitFactor  \n",
              "0  40.187582  41.099151  40.128080  40.461291  164204304      0.0          1.0  \n",
              "1  39.256972  40.442250  39.256972  40.078099  160995816      0.0          1.0  \n",
              "2  41.120572  41.199114  39.613984  40.001936  145090468      0.0          1.0  \n",
              "3  40.066198  41.687030  39.728227  41.337159  155851356      0.0          1.0  \n",
              "4  39.623504  40.466051  39.316474  39.806770  166674180      0.0          1.0  "
            ],
            "text/html": [
              "\n",
              "  <div id=\"df-fc96b669-7e87-4a6d-950c-e9489c338184\">\n",
              "    <div class=\"colab-df-container\">\n",
              "      <div>\n",
              "<style scoped>\n",
              "    .dataframe tbody tr th:only-of-type {\n",
              "        vertical-align: middle;\n",
              "    }\n",
              "\n",
              "    .dataframe tbody tr th {\n",
              "        vertical-align: top;\n",
              "    }\n",
              "\n",
              "    .dataframe thead th {\n",
              "        text-align: right;\n",
              "    }\n",
              "</style>\n",
              "<table border=\"1\" class=\"dataframe\">\n",
              "  <thead>\n",
              "    <tr style=\"text-align: right;\">\n",
              "      <th></th>\n",
              "      <th>symbol</th>\n",
              "      <th>date</th>\n",
              "      <th>close</th>\n",
              "      <th>high</th>\n",
              "      <th>low</th>\n",
              "      <th>open</th>\n",
              "      <th>volume</th>\n",
              "      <th>adjClose</th>\n",
              "      <th>adjHigh</th>\n",
              "      <th>adjLow</th>\n",
              "      <th>adjOpen</th>\n",
              "      <th>adjVolume</th>\n",
              "      <th>divCash</th>\n",
              "      <th>splitFactor</th>\n",
              "    </tr>\n",
              "  </thead>\n",
              "  <tbody>\n",
              "    <tr>\n",
              "      <th>0</th>\n",
              "      <td>AAPL</td>\n",
              "      <td>2018-03-22 00:00:00+00:00</td>\n",
              "      <td>168.85</td>\n",
              "      <td>172.68</td>\n",
              "      <td>168.60</td>\n",
              "      <td>170.00</td>\n",
              "      <td>41051076</td>\n",
              "      <td>40.187582</td>\n",
              "      <td>41.099151</td>\n",
              "      <td>40.128080</td>\n",
              "      <td>40.461291</td>\n",
              "      <td>164204304</td>\n",
              "      <td>0.0</td>\n",
              "      <td>1.0</td>\n",
              "    </tr>\n",
              "    <tr>\n",
              "      <th>1</th>\n",
              "      <td>AAPL</td>\n",
              "      <td>2018-03-23 00:00:00+00:00</td>\n",
              "      <td>164.94</td>\n",
              "      <td>169.92</td>\n",
              "      <td>164.94</td>\n",
              "      <td>168.39</td>\n",
              "      <td>40248954</td>\n",
              "      <td>39.256972</td>\n",
              "      <td>40.442250</td>\n",
              "      <td>39.256972</td>\n",
              "      <td>40.078099</td>\n",
              "      <td>160995816</td>\n",
              "      <td>0.0</td>\n",
              "      <td>1.0</td>\n",
              "    </tr>\n",
              "    <tr>\n",
              "      <th>2</th>\n",
              "      <td>AAPL</td>\n",
              "      <td>2018-03-26 00:00:00+00:00</td>\n",
              "      <td>172.77</td>\n",
              "      <td>173.10</td>\n",
              "      <td>166.44</td>\n",
              "      <td>168.07</td>\n",
              "      <td>36272617</td>\n",
              "      <td>41.120572</td>\n",
              "      <td>41.199114</td>\n",
              "      <td>39.613984</td>\n",
              "      <td>40.001936</td>\n",
              "      <td>145090468</td>\n",
              "      <td>0.0</td>\n",
              "      <td>1.0</td>\n",
              "    </tr>\n",
              "    <tr>\n",
              "      <th>3</th>\n",
              "      <td>AAPL</td>\n",
              "      <td>2018-03-27 00:00:00+00:00</td>\n",
              "      <td>168.34</td>\n",
              "      <td>175.15</td>\n",
              "      <td>166.92</td>\n",
              "      <td>173.68</td>\n",
              "      <td>38962839</td>\n",
              "      <td>40.066198</td>\n",
              "      <td>41.687030</td>\n",
              "      <td>39.728227</td>\n",
              "      <td>41.337159</td>\n",
              "      <td>155851356</td>\n",
              "      <td>0.0</td>\n",
              "      <td>1.0</td>\n",
              "    </tr>\n",
              "    <tr>\n",
              "      <th>4</th>\n",
              "      <td>AAPL</td>\n",
              "      <td>2018-03-28 00:00:00+00:00</td>\n",
              "      <td>166.48</td>\n",
              "      <td>170.02</td>\n",
              "      <td>165.19</td>\n",
              "      <td>167.25</td>\n",
              "      <td>41668545</td>\n",
              "      <td>39.623504</td>\n",
              "      <td>40.466051</td>\n",
              "      <td>39.316474</td>\n",
              "      <td>39.806770</td>\n",
              "      <td>166674180</td>\n",
              "      <td>0.0</td>\n",
              "      <td>1.0</td>\n",
              "    </tr>\n",
              "  </tbody>\n",
              "</table>\n",
              "</div>\n",
              "      <button class=\"colab-df-convert\" onclick=\"convertToInteractive('df-fc96b669-7e87-4a6d-950c-e9489c338184')\"\n",
              "              title=\"Convert this dataframe to an interactive table.\"\n",
              "              style=\"display:none;\">\n",
              "        \n",
              "  <svg xmlns=\"http://www.w3.org/2000/svg\" height=\"24px\"viewBox=\"0 0 24 24\"\n",
              "       width=\"24px\">\n",
              "    <path d=\"M0 0h24v24H0V0z\" fill=\"none\"/>\n",
              "    <path d=\"M18.56 5.44l.94 2.06.94-2.06 2.06-.94-2.06-.94-.94-2.06-.94 2.06-2.06.94zm-11 1L8.5 8.5l.94-2.06 2.06-.94-2.06-.94L8.5 2.5l-.94 2.06-2.06.94zm10 10l.94 2.06.94-2.06 2.06-.94-2.06-.94-.94-2.06-.94 2.06-2.06.94z\"/><path d=\"M17.41 7.96l-1.37-1.37c-.4-.4-.92-.59-1.43-.59-.52 0-1.04.2-1.43.59L10.3 9.45l-7.72 7.72c-.78.78-.78 2.05 0 2.83L4 21.41c.39.39.9.59 1.41.59.51 0 1.02-.2 1.41-.59l7.78-7.78 2.81-2.81c.8-.78.8-2.07 0-2.86zM5.41 20L4 18.59l7.72-7.72 1.47 1.35L5.41 20z\"/>\n",
              "  </svg>\n",
              "      </button>\n",
              "      \n",
              "  <style>\n",
              "    .colab-df-container {\n",
              "      display:flex;\n",
              "      flex-wrap:wrap;\n",
              "      gap: 12px;\n",
              "    }\n",
              "\n",
              "    .colab-df-convert {\n",
              "      background-color: #E8F0FE;\n",
              "      border: none;\n",
              "      border-radius: 50%;\n",
              "      cursor: pointer;\n",
              "      display: none;\n",
              "      fill: #1967D2;\n",
              "      height: 32px;\n",
              "      padding: 0 0 0 0;\n",
              "      width: 32px;\n",
              "    }\n",
              "\n",
              "    .colab-df-convert:hover {\n",
              "      background-color: #E2EBFA;\n",
              "      box-shadow: 0px 1px 2px rgba(60, 64, 67, 0.3), 0px 1px 3px 1px rgba(60, 64, 67, 0.15);\n",
              "      fill: #174EA6;\n",
              "    }\n",
              "\n",
              "    [theme=dark] .colab-df-convert {\n",
              "      background-color: #3B4455;\n",
              "      fill: #D2E3FC;\n",
              "    }\n",
              "\n",
              "    [theme=dark] .colab-df-convert:hover {\n",
              "      background-color: #434B5C;\n",
              "      box-shadow: 0px 1px 3px 1px rgba(0, 0, 0, 0.15);\n",
              "      filter: drop-shadow(0px 1px 2px rgba(0, 0, 0, 0.3));\n",
              "      fill: #FFFFFF;\n",
              "    }\n",
              "  </style>\n",
              "\n",
              "      <script>\n",
              "        const buttonEl =\n",
              "          document.querySelector('#df-fc96b669-7e87-4a6d-950c-e9489c338184 button.colab-df-convert');\n",
              "        buttonEl.style.display =\n",
              "          google.colab.kernel.accessAllowed ? 'block' : 'none';\n",
              "\n",
              "        async function convertToInteractive(key) {\n",
              "          const element = document.querySelector('#df-fc96b669-7e87-4a6d-950c-e9489c338184');\n",
              "          const dataTable =\n",
              "            await google.colab.kernel.invokeFunction('convertToInteractive',\n",
              "                                                     [key], {});\n",
              "          if (!dataTable) return;\n",
              "\n",
              "          const docLinkHtml = 'Like what you see? Visit the ' +\n",
              "            '<a target=\"_blank\" href=https://colab.research.google.com/notebooks/data_table.ipynb>data table notebook</a>'\n",
              "            + ' to learn more about interactive tables.';\n",
              "          element.innerHTML = '';\n",
              "          dataTable['output_type'] = 'display_data';\n",
              "          await google.colab.output.renderOutput(dataTable, element);\n",
              "          const docLink = document.createElement('div');\n",
              "          docLink.innerHTML = docLinkHtml;\n",
              "          element.appendChild(docLink);\n",
              "        }\n",
              "      </script>\n",
              "    </div>\n",
              "  </div>\n",
              "  "
            ]
          },
          "metadata": {},
          "execution_count": 66
        }
      ]
    },
    {
      "cell_type": "code",
      "source": [
        "# Doing this for CLOSE Column\n",
        "df1 = df.reset_index()['close']"
      ],
      "metadata": {
        "id": "XOGKypu2wT89"
      },
      "execution_count": null,
      "outputs": []
    },
    {
      "cell_type": "code",
      "source": [
        "df1.shape"
      ],
      "metadata": {
        "colab": {
          "base_uri": "https://localhost:8080/"
        },
        "id": "KY3KiEjqwqtL",
        "outputId": "a8b8dcad-f53e-46bd-e62c-ebaa6c7be3b5"
      },
      "execution_count": null,
      "outputs": [
        {
          "output_type": "execute_result",
          "data": {
            "text/plain": [
              "(1258,)"
            ]
          },
          "metadata": {},
          "execution_count": 68
        }
      ]
    },
    {
      "cell_type": "code",
      "source": [
        "df1"
      ],
      "metadata": {
        "colab": {
          "base_uri": "https://localhost:8080/"
        },
        "id": "kx8QajD-wu1K",
        "outputId": "ed41cfd2-395a-4876-839f-220c765cf1d9"
      },
      "execution_count": null,
      "outputs": [
        {
          "output_type": "execute_result",
          "data": {
            "text/plain": [
              "0       168.85\n",
              "1       164.94\n",
              "2       172.77\n",
              "3       168.34\n",
              "4       166.48\n",
              "         ...  \n",
              "1253    152.99\n",
              "1254    155.85\n",
              "1255    155.00\n",
              "1256    157.40\n",
              "1257    159.28\n",
              "Name: close, Length: 1258, dtype: float64"
            ]
          },
          "metadata": {},
          "execution_count": 69
        }
      ]
    },
    {
      "cell_type": "code",
      "source": [
        "plt.plot(df1)"
      ],
      "metadata": {
        "colab": {
          "base_uri": "https://localhost:8080/",
          "height": 283
        },
        "id": "7f7sJ1EKw6si",
        "outputId": "01fbfb1d-8f06-441d-9777-e1af11297510"
      },
      "execution_count": null,
      "outputs": [
        {
          "output_type": "execute_result",
          "data": {
            "text/plain": [
              "[<matplotlib.lines.Line2D at 0x7f2e388d9310>]"
            ]
          },
          "metadata": {},
          "execution_count": 70
        },
        {
          "output_type": "display_data",
          "data": {
            "text/plain": [
              "<Figure size 432x288 with 1 Axes>"
            ],
            "image/png": "[encoded data removed]"
          },
          "metadata": {
            "needs_background": "light"
          }
        }
      ]
    },
    {
      "cell_type": "code",
      "source": [
        "# LSTM are sensitive to the scale of the data, so we apply MinMax Scaler\n",
        "scaler = MinMaxScaler(feature_range=(0,1))\n",
        "df1 = scaler.fit_transform(np.array(df1).reshape(-1,1))\n",
        "df1.shape"
      ],
      "metadata": {
        "colab": {
          "base_uri": "https://localhost:8080/"
        },
        "id": "W_gjFJdHxM3v",
        "outputId": "e243e88c-87cb-4f53-f473-2cac3fbe15ec"
      },
      "execution_count": null,
      "outputs": [
        {
          "output_type": "execute_result",
          "data": {
            "text/plain": [
              "(1258, 1)"
            ]
          },
          "metadata": {},
          "execution_count": 71
        }
      ]
    },
    {
      "cell_type": "code",
      "source": [
        "# Splitting dataset into train and test\n",
        "# Time series data split based on date\n",
        "training_size = int(len(df1)*0.65) \n",
        "test_size = len(df1)-training_size\n",
        "train_data, test_data = df1[0:training_size,:],df1[training_size:len(df1),:1]"
      ],
      "metadata": {
        "id": "cEEq6w3xyOSO"
      },
      "execution_count": null,
      "outputs": []
    },
    {
      "cell_type": "code",
      "source": [
        "len(train_data), len(test_data)"
      ],
      "metadata": {
        "colab": {
          "base_uri": "https://localhost:8080/"
        },
        "id": "Z0olXTRvyV0V",
        "outputId": "6013722a-6c4a-4a11-b1a9-f36ae7353992"
      },
      "execution_count": null,
      "outputs": [
        {
          "output_type": "execute_result",
          "data": {
            "text/plain": [
              "(817, 441)"
            ]
          },
          "metadata": {},
          "execution_count": 73
        }
      ]
    },
    {
      "cell_type": "code",
      "source": [
        "# convert an array of values into a dataset matrix\n",
        "def create_dataset(dataset, time_step=1):\n",
        "  dataX, dataY = [], []\n",
        "  for i in range(len(dataset) - time_step-1):\n",
        "    a = dataset[i:(i+time_step), 0]\n",
        "    dataX.append(a)\n",
        "    dataY.append(dataset[i +time_step, 0])\n",
        "  return np.array(dataX), np.array(dataY)"
      ],
      "metadata": {
        "id": "IpdTueGuzwcV"
      },
      "execution_count": null,
      "outputs": []
    },
    {
      "cell_type": "code",
      "source": [
        "# Reshape into X=t,t+1,t+2,t+3 and Y=t+4\n",
        "time_step = 100\n",
        "X_train, y_train = create_dataset(train_data, time_step)\n",
        "X_test, y_test = create_dataset(test_data, time_step)"
      ],
      "metadata": {
        "id": "gqGaG3Ju1cbA"
      },
      "execution_count": null,
      "outputs": []
    },
    {
      "cell_type": "code",
      "source": [
        "print(X_train)"
      ],
      "metadata": {
        "colab": {
          "base_uri": "https://localhost:8080/"
        },
        "id": "-vDhGu6z2CAJ",
        "outputId": "65a2f29c-e33e-47c9-a230-19fd65aae948"
      },
      "execution_count": null,
      "outputs": [
        {
          "output_type": "stream",
          "name": "stdout",
          "text": [
            "[[0.15531622 0.14552286 0.16513463 ... 0.25557921 0.25219787 0.25555416]\n",
            " [0.14552286 0.16513463 0.15403882 ... 0.25219787 0.25555416 0.2577583 ]\n",
            " [0.16513463 0.15403882 0.14938009 ... 0.25555416 0.2577583  0.2589856 ]\n",
            " ...\n",
            " [0.07521603 0.08072636 0.09036944 ... 0.0482655  0.05137132 0.05921102]\n",
            " [0.08072636 0.09036944 0.09097057 ... 0.05137132 0.05921102 0.05710708]\n",
            " [0.09036944 0.09097057 0.0882154  ... 0.05921102 0.05710708 0.05838447]]\n"
          ]
        }
      ]
    },
    {
      "cell_type": "code",
      "source": [
        "print(X_train.shape), print(y_train.shape) "
      ],
      "metadata": {
        "colab": {
          "base_uri": "https://localhost:8080/"
        },
        "id": "IejAjEln2M5n",
        "outputId": "05a59595-f9d0-4c58-e0c9-36cb41751b46"
      },
      "execution_count": null,
      "outputs": [
        {
          "output_type": "stream",
          "name": "stdout",
          "text": [
            "(716, 100)\n",
            "(716,)\n"
          ]
        },
        {
          "output_type": "execute_result",
          "data": {
            "text/plain": [
              "(None, None)"
            ]
          },
          "metadata": {},
          "execution_count": 77
        }
      ]
    },
    {
      "cell_type": "code",
      "source": [
        "print(X_test.shape), print(y_test.shape)"
      ],
      "metadata": {
        "colab": {
          "base_uri": "https://localhost:8080/"
        },
        "id": "7MPaTiJ220H8",
        "outputId": "4f94dd94-e29c-465c-b12a-272e3b8441af"
      },
      "execution_count": null,
      "outputs": [
        {
          "output_type": "stream",
          "name": "stdout",
          "text": [
            "(340, 100)\n",
            "(340,)\n"
          ]
        },
        {
          "output_type": "execute_result",
          "data": {
            "text/plain": [
              "(None, None)"
            ]
          },
          "metadata": {},
          "execution_count": 78
        }
      ]
    },
    {
      "cell_type": "code",
      "source": [
        "X_train = X_train.reshape(X_train.shape[0],X_train.shape[1], 1)\n",
        "X_test = X_test.reshape(X_test.shape[0],X_test.shape[1], 1)"
      ],
      "metadata": {
        "id": "V_hLqrPx289m"
      },
      "execution_count": null,
      "outputs": []
    },
    {
      "cell_type": "code",
      "source": [
        "# Create the Stacked LSTM model\n",
        "\n",
        "model = Sequential()\n",
        "model.add(LSTM(50, return_sequences= True, input_shape=(100,1)))\n",
        "model.add(LSTM(50, return_sequences= True))\n",
        "model.add(LSTM(50))\n",
        "model.add(Dense(1))\n",
        "model.compile(loss='mean_squared_error', optimizer='adam')"
      ],
      "metadata": {
        "id": "jHrvRDs94CEu"
      },
      "execution_count": null,
      "outputs": []
    },
    {
      "cell_type": "code",
      "source": [
        "model.summary()"
      ],
      "metadata": {
        "colab": {
          "base_uri": "https://localhost:8080/"
        },
        "id": "K2HrvCsw407R",
        "outputId": "3d2827bf-93cd-4d80-faed-67e2b967b0b5"
      },
      "execution_count": null,
      "outputs": [
        {
          "output_type": "stream",
          "name": "stdout",
          "text": [
            "Model: \"sequential_2\"\n",
            "_________________________________________________________________\n",
            " Layer (type)                Output Shape              Param #   \n",
            "=================================================================\n",
            " lstm_6 (LSTM)               (None, 100, 50)           10400     \n",
            "                                                                 \n",
            " lstm_7 (LSTM)               (None, 100, 50)           20200     \n",
            "                                                                 \n",
            " lstm_8 (LSTM)               (None, 50)                20200     \n",
            "                                                                 \n",
            " dense_2 (Dense)             (None, 1)                 51        \n",
            "                                                                 \n",
            "=================================================================\n",
            "Total params: 50,851\n",
            "Trainable params: 50,851\n",
            "Non-trainable params: 0\n",
            "_________________________________________________________________\n"
          ]
        }
      ]
    },
    {
      "cell_type": "code",
      "source": [
        "model.fit(X_train, y_train, validation_data=(X_test, y_test), epochs=100, batch_size=64,verbose=1)\n"
      ],
      "metadata": {
        "colab": {
          "base_uri": "https://localhost:8080/"
        },
        "id": "nlGntTcv5C9q",
        "outputId": "21e5ecb2-ceb5-4fe0-8d4d-4d83d08d77ea"
      },
      "execution_count": null,
      "outputs": [
        {
          "output_type": "stream",
          "name": "stdout",
          "text": [
            "Epoch 1/100\n",
            "12/12 [==============================] - 11s 411ms/step - loss: 0.0268 - val_loss: 5.0656e-04\n",
            "Epoch 2/100\n",
            "12/12 [==============================] - 3s 225ms/step - loss: 0.0134 - val_loss: 0.0041\n",
            "Epoch 3/100\n",
            "12/12 [==============================] - 3s 249ms/step - loss: 0.0100 - val_loss: 6.5898e-04\n",
            "Epoch 4/100\n",
            "12/12 [==============================] - 4s 311ms/step - loss: 0.0091 - val_loss: 3.6575e-04\n",
            "Epoch 5/100\n",
            "12/12 [==============================] - 3s 230ms/step - loss: 0.0076 - val_loss: 7.5895e-04\n",
            "Epoch 6/100\n",
            "12/12 [==============================] - 3s 232ms/step - loss: 0.0065 - val_loss: 4.0288e-04\n",
            "Epoch 7/100\n",
            "12/12 [==============================] - 3s 225ms/step - loss: 0.0056 - val_loss: 3.8454e-04\n",
            "Epoch 8/100\n",
            "12/12 [==============================] - 3s 294ms/step - loss: 0.0054 - val_loss: 6.7402e-04\n",
            "Epoch 9/100\n",
            "12/12 [==============================] - 3s 244ms/step - loss: 0.0053 - val_loss: 5.3346e-04\n",
            "Epoch 10/100\n",
            "12/12 [==============================] - 3s 228ms/step - loss: 0.0044 - val_loss: 4.4172e-04\n",
            "Epoch 11/100\n",
            "12/12 [==============================] - 3s 231ms/step - loss: 0.0038 - val_loss: 3.2665e-04\n",
            "Epoch 12/100\n",
            "12/12 [==============================] - 3s 272ms/step - loss: 0.0036 - val_loss: 5.1483e-04\n",
            "Epoch 13/100\n",
            "12/12 [==============================] - 3s 238ms/step - loss: 0.0039 - val_loss: 4.2447e-04\n",
            "Epoch 14/100\n",
            "12/12 [==============================] - 3s 236ms/step - loss: 0.0032 - val_loss: 3.1648e-04\n",
            "Epoch 15/100\n",
            "12/12 [==============================] - 3s 237ms/step - loss: 0.0044 - val_loss: 3.5293e-04\n",
            "Epoch 16/100\n",
            "12/12 [==============================] - 3s 270ms/step - loss: 0.0045 - val_loss: 7.4189e-04\n",
            "Epoch 17/100\n",
            "12/12 [==============================] - 3s 252ms/step - loss: 0.0037 - val_loss: 3.3850e-04\n",
            "Epoch 18/100\n",
            "12/12 [==============================] - 3s 231ms/step - loss: 0.0035 - val_loss: 3.8396e-04\n",
            "Epoch 19/100\n",
            "12/12 [==============================] - 3s 255ms/step - loss: 0.0026 - val_loss: 3.4290e-04\n",
            "Epoch 20/100\n",
            "12/12 [==============================] - 3s 274ms/step - loss: 0.0029 - val_loss: 5.3022e-04\n",
            "Epoch 21/100\n",
            "12/12 [==============================] - 3s 254ms/step - loss: 0.0025 - val_loss: 3.6123e-04\n",
            "Epoch 22/100\n",
            "12/12 [==============================] - 3s 235ms/step - loss: 0.0028 - val_loss: 2.7692e-04\n",
            "Epoch 23/100\n",
            "12/12 [==============================] - 3s 231ms/step - loss: 0.0022 - val_loss: 2.6297e-04\n",
            "Epoch 24/100\n",
            "12/12 [==============================] - 3s 268ms/step - loss: 0.0026 - val_loss: 4.7514e-04\n",
            "Epoch 25/100\n",
            "12/12 [==============================] - 3s 255ms/step - loss: 0.0022 - val_loss: 3.2537e-04\n",
            "Epoch 26/100\n",
            "12/12 [==============================] - 3s 238ms/step - loss: 0.0022 - val_loss: 2.7213e-04\n",
            "Epoch 27/100\n",
            "12/12 [==============================] - 3s 230ms/step - loss: 0.0025 - val_loss: 2.6726e-04\n",
            "Epoch 28/100\n",
            "12/12 [==============================] - 3s 261ms/step - loss: 0.0020 - val_loss: 2.6564e-04\n",
            "Epoch 29/100\n",
            "12/12 [==============================] - 3s 268ms/step - loss: 0.0018 - val_loss: 3.6471e-04\n",
            "Epoch 30/100\n",
            "12/12 [==============================] - 3s 257ms/step - loss: 0.0018 - val_loss: 2.6362e-04\n",
            "Epoch 31/100\n",
            "12/12 [==============================] - 3s 234ms/step - loss: 0.0023 - val_loss: 2.9698e-04\n",
            "Epoch 32/100\n",
            "12/12 [==============================] - 3s 273ms/step - loss: 0.0022 - val_loss: 2.9976e-04\n",
            "Epoch 33/100\n",
            "12/12 [==============================] - 3s 252ms/step - loss: 0.0026 - val_loss: 4.6998e-04\n",
            "Epoch 34/100\n",
            "12/12 [==============================] - 3s 240ms/step - loss: 0.0023 - val_loss: 2.8779e-04\n",
            "Epoch 35/100\n",
            "12/12 [==============================] - 3s 233ms/step - loss: 0.0028 - val_loss: 7.2095e-04\n",
            "Epoch 36/100\n",
            "12/12 [==============================] - 3s 282ms/step - loss: 0.0034 - val_loss: 2.6004e-04\n",
            "Epoch 37/100\n",
            "12/12 [==============================] - 3s 254ms/step - loss: 0.0021 - val_loss: 2.8094e-04\n",
            "Epoch 38/100\n",
            "12/12 [==============================] - 3s 234ms/step - loss: 0.0024 - val_loss: 3.8457e-04\n",
            "Epoch 39/100\n",
            "12/12 [==============================] - 3s 238ms/step - loss: 0.0035 - val_loss: 6.7192e-04\n",
            "Epoch 40/100\n",
            "12/12 [==============================] - 3s 285ms/step - loss: 0.0036 - val_loss: 5.3524e-04\n",
            "Epoch 41/100\n",
            "12/12 [==============================] - 3s 270ms/step - loss: 0.0022 - val_loss: 2.6582e-04\n",
            "Epoch 42/100\n",
            "12/12 [==============================] - 3s 249ms/step - loss: 0.0022 - val_loss: 2.7385e-04\n",
            "Epoch 43/100\n",
            "12/12 [==============================] - 3s 240ms/step - loss: 0.0017 - val_loss: 2.6276e-04\n",
            "Epoch 44/100\n",
            "12/12 [==============================] - 4s 304ms/step - loss: 0.0021 - val_loss: 3.1100e-04\n",
            "Epoch 45/100\n",
            "12/12 [==============================] - 3s 236ms/step - loss: 0.0019 - val_loss: 3.1653e-04\n",
            "Epoch 46/100\n",
            "12/12 [==============================] - 3s 235ms/step - loss: 0.0017 - val_loss: 2.5373e-04\n",
            "Epoch 47/100\n",
            "12/12 [==============================] - 3s 234ms/step - loss: 0.0017 - val_loss: 2.5312e-04\n",
            "Epoch 48/100\n",
            "12/12 [==============================] - 4s 303ms/step - loss: 0.0021 - val_loss: 3.3764e-04\n",
            "Epoch 49/100\n",
            "12/12 [==============================] - 3s 240ms/step - loss: 0.0017 - val_loss: 2.8553e-04\n",
            "Epoch 50/100\n",
            "12/12 [==============================] - 3s 239ms/step - loss: 0.0021 - val_loss: 2.8753e-04\n",
            "Epoch 51/100\n",
            "12/12 [==============================] - 3s 237ms/step - loss: 0.0016 - val_loss: 3.0131e-04\n",
            "Epoch 52/100\n",
            "12/12 [==============================] - 4s 305ms/step - loss: 0.0015 - val_loss: 2.5454e-04\n",
            "Epoch 53/100\n",
            "12/12 [==============================] - 3s 262ms/step - loss: 0.0014 - val_loss: 2.5620e-04\n",
            "Epoch 54/100\n",
            "12/12 [==============================] - 3s 244ms/step - loss: 0.0017 - val_loss: 2.9652e-04\n",
            "Epoch 55/100\n",
            "12/12 [==============================] - 3s 237ms/step - loss: 0.0018 - val_loss: 2.5437e-04\n",
            "Epoch 56/100\n",
            "12/12 [==============================] - 4s 316ms/step - loss: 0.0017 - val_loss: 2.7625e-04\n",
            "Epoch 57/100\n",
            "12/12 [==============================] - 3s 241ms/step - loss: 0.0015 - val_loss: 2.5146e-04\n",
            "Epoch 58/100\n",
            "12/12 [==============================] - 3s 235ms/step - loss: 0.0018 - val_loss: 2.6168e-04\n",
            "Epoch 59/100\n",
            "12/12 [==============================] - 3s 260ms/step - loss: 0.0025 - val_loss: 0.0012\n",
            "Epoch 60/100\n",
            "12/12 [==============================] - 4s 309ms/step - loss: 0.0074 - val_loss: 0.0013\n",
            "Epoch 61/100\n",
            "12/12 [==============================] - 3s 234ms/step - loss: 0.0037 - val_loss: 6.3820e-04\n",
            "Epoch 63/100\n",
            "12/12 [==============================] - 3s 236ms/step - loss: 0.0036 - val_loss: 3.6213e-04\n",
            "Epoch 64/100\n",
            "12/12 [==============================] - 4s 308ms/step - loss: 0.0020 - val_loss: 2.7474e-04\n",
            "Epoch 65/100\n",
            "12/12 [==============================] - 3s 238ms/step - loss: 0.0023 - val_loss: 2.4258e-04\n",
            "Epoch 66/100\n",
            "12/12 [==============================] - 3s 244ms/step - loss: 0.0016 - val_loss: 2.5931e-04\n",
            "Epoch 67/100\n",
            "12/12 [==============================] - 3s 242ms/step - loss: 0.0015 - val_loss: 2.6001e-04\n",
            "Epoch 68/100\n",
            "12/12 [==============================] - 4s 315ms/step - loss: 0.0016 - val_loss: 2.4531e-04\n",
            "Epoch 69/100\n",
            "12/12 [==============================] - 3s 240ms/step - loss: 0.0031 - val_loss: 4.9849e-04\n",
            "Epoch 70/100\n",
            "12/12 [==============================] - 3s 240ms/step - loss: 0.0019 - val_loss: 2.9178e-04\n",
            "Epoch 71/100\n",
            "12/12 [==============================] - 3s 241ms/step - loss: 0.0017 - val_loss: 2.5235e-04\n",
            "Epoch 72/100\n",
            "12/12 [==============================] - 4s 334ms/step - loss: 0.0020 - val_loss: 3.3951e-04\n",
            "Epoch 73/100\n",
            "12/12 [==============================] - 3s 241ms/step - loss: 0.0018 - val_loss: 2.3700e-04\n",
            "Epoch 74/100\n",
            "12/12 [==============================] - 3s 242ms/step - loss: 0.0016 - val_loss: 2.6860e-04\n",
            "Epoch 75/100\n",
            "12/12 [==============================] - 3s 259ms/step - loss: 0.0019 - val_loss: 2.7430e-04\n",
            "Epoch 76/100\n",
            "12/12 [==============================] - 3s 281ms/step - loss: 0.0019 - val_loss: 3.1692e-04\n",
            "Epoch 77/100\n",
            "12/12 [==============================] - 3s 236ms/step - loss: 0.0015 - val_loss: 2.6359e-04\n",
            "Epoch 78/100\n",
            "12/12 [==============================] - 3s 235ms/step - loss: 0.0014 - val_loss: 2.5009e-04\n",
            "Epoch 79/100\n",
            "12/12 [==============================] - 3s 256ms/step - loss: 0.0014 - val_loss: 3.3887e-04\n",
            "Epoch 80/100\n",
            "12/12 [==============================] - 3s 275ms/step - loss: 0.0013 - val_loss: 3.3300e-04\n",
            "Epoch 81/100\n",
            "12/12 [==============================] - 3s 234ms/step - loss: 0.0014 - val_loss: 2.3150e-04\n",
            "Epoch 82/100\n",
            "12/12 [==============================] - 3s 236ms/step - loss: 0.0014 - val_loss: 4.2351e-04\n",
            "Epoch 83/100\n",
            "12/12 [==============================] - 3s 254ms/step - loss: 0.0025 - val_loss: 2.4726e-04\n",
            "Epoch 84/100\n",
            "12/12 [==============================] - 3s 280ms/step - loss: 0.0015 - val_loss: 2.6041e-04\n",
            "Epoch 85/100\n",
            "12/12 [==============================] - 3s 239ms/step - loss: 0.0016 - val_loss: 2.9553e-04\n",
            "Epoch 86/100\n",
            "12/12 [==============================] - 3s 249ms/step - loss: 0.0027 - val_loss: 2.5914e-04\n",
            "Epoch 87/100\n",
            "12/12 [==============================] - 3s 273ms/step - loss: 0.0026 - val_loss: 2.4239e-04\n",
            "Epoch 88/100\n",
            "12/12 [==============================] - 3s 255ms/step - loss: 0.0035 - val_loss: 2.2553e-04\n",
            "Epoch 89/100\n",
            "12/12 [==============================] - 3s 238ms/step - loss: 0.0029 - val_loss: 5.5432e-04\n",
            "Epoch 90/100\n",
            "12/12 [==============================] - 3s 240ms/step - loss: 0.0020 - val_loss: 2.3649e-04\n",
            "Epoch 91/100\n",
            "12/12 [==============================] - 3s 277ms/step - loss: 0.0018 - val_loss: 2.2996e-04\n",
            "Epoch 92/100\n",
            "12/12 [==============================] - 3s 248ms/step - loss: 0.0030 - val_loss: 2.5481e-04\n",
            "Epoch 93/100\n",
            "12/12 [==============================] - 3s 245ms/step - loss: 0.0021 - val_loss: 4.4127e-04\n",
            "Epoch 94/100\n",
            "12/12 [==============================] - 3s 268ms/step - loss: 0.0020 - val_loss: 2.4178e-04\n",
            "Epoch 95/100\n",
            "12/12 [==============================] - 4s 307ms/step - loss: 0.0026 - val_loss: 2.9924e-04\n",
            "Epoch 96/100\n",
            "12/12 [==============================] - 3s 233ms/step - loss: 0.0020 - val_loss: 2.7295e-04\n",
            "Epoch 97/100\n",
            "12/12 [==============================] - 3s 235ms/step - loss: 0.0016 - val_loss: 2.3332e-04\n",
            "Epoch 98/100\n",
            "12/12 [==============================] - 3s 233ms/step - loss: 0.0015 - val_loss: 2.1391e-04\n",
            "Epoch 99/100\n",
            "12/12 [==============================] - 4s 302ms/step - loss: 0.0014 - val_loss: 2.6432e-04\n",
            "Epoch 100/100\n",
            "12/12 [==============================] - 3s 239ms/step - loss: 0.0016 - val_loss: 2.2373e-04\n"
          ]
        },
        {
          "output_type": "execute_result",
          "data": {
            "text/plain": [
              "<keras.callbacks.History at 0x7f2e38823f10>"
            ]
          },
          "metadata": {},
          "execution_count": 82
        }
      ]
    },
    {
      "cell_type": "code",
      "source": [
        "# Prediction and check performance metrices\n",
        "train_predict = model.predict(X_train)\n",
        "test_predict = model.predict(X_test)\n",
        "\n",
        "# Transform back to original form\n",
        "train_predict = scaler.inverse_transform(train_predict)\n",
        "test_predict = scaler.inverse_transform(test_predict)\n",
        "\n",
        "# Calculate RMSE performace metrices\n",
        "math.sqrt(mean_squared_error(y_train, train_predict))"
      ],
      "metadata": {
        "colab": {
          "base_uri": "https://localhost:8080/"
        },
        "id": "45w1mbYP5b_p",
        "outputId": "759ac1c6-fc8f-4d69-d59c-8793b14f7e20"
      },
      "execution_count": null,
      "outputs": [
        {
          "output_type": "stream",
          "name": "stdout",
          "text": [
            "23/23 [==============================] - 2s 46ms/step\n",
            "11/11 [==============================] - 1s 47ms/step\n"
          ]
        },
        {
          "output_type": "execute_result",
          "data": {
            "text/plain": [
              "229.55027996298884"
            ]
          },
          "metadata": {},
          "execution_count": 83
        }
      ]
    },
    {
      "cell_type": "code",
      "source": [
        "# Test Data RMSE\n",
        "math.sqrt(mean_squared_error(y_test, test_predict))"
      ],
      "metadata": {
        "colab": {
          "base_uri": "https://localhost:8080/"
        },
        "id": "R14Fszaw74M2",
        "outputId": "50855534-6e5f-4477-ec9e-aa237832843b"
      },
      "execution_count": null,
      "outputs": [
        {
          "output_type": "execute_result",
          "data": {
            "text/plain": [
              "156.21606398708144"
            ]
          },
          "metadata": {},
          "execution_count": 84
        }
      ]
    },
    {
      "cell_type": "code",
      "source": [
        "# Plotting\n",
        "#Shift predictions for plotting\n",
        "look_back = 100\n",
        "trainPredictPlot = np.empty_like(df1)\n",
        "trainPredictPlot[:, :] = np.nan\n",
        "trainPredictPlot[look_back:len(train_predict)+look_back, :] = train_predict\n",
        "\n",
        "testPredictPlot = np.empty_like(df1)\n",
        "testPredictPlot[:, :] = np.nan\n",
        "testPredictPlot[len(train_predict)+(look_back*2)+1:len(df1)-1, :] = test_predict\n",
        "\n",
        "#plot baseline and predictions\n",
        "plt.plot(scaler.inverse_transform(df1))\n",
        "plt.plot(trainPredictPlot)\n",
        "plt.plot(testPredictPlot)\n",
        "plt.show()"
      ],
      "metadata": {
        "colab": {
          "base_uri": "https://localhost:8080/",
          "height": 265
        },
        "id": "iGgPytaW80f5",
        "outputId": "c23d93c4-2cfd-412a-ff1e-8638b86bd5d4"
      },
      "execution_count": null,
      "outputs": [
        {
          "output_type": "display_data",
          "data": {
            "text/plain": [
              "<Figure size 432x288 with 1 Axes>"
            ],
            "image/png": "[encoded data removed]"
          },
          "metadata": {
            "needs_background": "light"
          }
        }
      ]
    },
    {
      "cell_type": "code",
      "source": [
        " len(test_data)"
      ],
      "metadata": {
        "colab": {
          "base_uri": "https://localhost:8080/"
        },
        "id": "Wh3U3uMu-NJq",
        "outputId": "c435f5e1-4544-4156-e0d7-22880c35ef7c"
      },
      "execution_count": null,
      "outputs": [
        {
          "output_type": "execute_result",
          "data": {
            "text/plain": [
              "441"
            ]
          },
          "metadata": {},
          "execution_count": 86
        }
      ]
    },
    {
      "cell_type": "code",
      "source": [
        "x_input = test_data[340:].reshape(1,-1)\n",
        "x_input.shape"
      ],
      "metadata": {
        "colab": {
          "base_uri": "https://localhost:8080/"
        },
        "id": "u6rj9nD8-xX6",
        "outputId": "4f4582f4-390f-4e1b-ecb5-f5af8406b225"
      },
      "execution_count": null,
      "outputs": [
        {
          "output_type": "execute_result",
          "data": {
            "text/plain": [
              "(1, 101)"
            ]
          },
          "metadata": {},
          "execution_count": 87
        }
      ]
    },
    {
      "cell_type": "code",
      "source": [
        "x_input = test_data[340:].reshape(1,-1)"
      ],
      "metadata": {
        "id": "L8eVNvxW-7Eb"
      },
      "execution_count": null,
      "outputs": []
    },
    {
      "cell_type": "code",
      "source": [
        "temp_input = list(x_input)\n",
        "temp_input = temp_input[0].tolist()"
      ],
      "metadata": {
        "id": "S-337W-F_4bl"
      },
      "execution_count": null,
      "outputs": []
    },
    {
      "cell_type": "code",
      "source": [
        "# Predictions for next 10 days\n",
        "from numpy import array\n",
        "\n",
        "lst_output=[]\n",
        "n_steps=100\n",
        "i=0\n",
        "while(i<30):\n",
        "  if(len(temp_input)>100):\n",
        "    x_input = np.array(temp_input[1:])\n",
        "    print(\"{} day input {}\".format(i,x_input))\n",
        "    x_input = x_input.reshape(1,-1)\n",
        "    x_input = x_input.reshape(1, n_steps ,1)\n",
        "\n",
        "    yhat = model.predict(x_input, verbose=0)\n",
        "    print(\"{} day output {}\".format(i,yhat))\n",
        "    temp_input.extend(yhat[0].tolist())\n",
        "    temp_input = temp_input[1:]\n",
        "    lst_output.extend(yhat.tolist())\n",
        "    i=i+1\n",
        "  \n",
        "  else:\n",
        "    x_input = x_input.reshape((1, n_steps,1))\n",
        "    yhat = model.predict(x_input, verbose=0)\n",
        "    print(yhat[0])\n",
        "    temp_input.extend(yhat[0].tolist())\n",
        "    print(len(temp_input))\n",
        "    lst_output.extend(yhat.tolist())\n",
        "    i=i+1\n",
        "    \n",
        "print(lst_output)"
      ],
      "metadata": {
        "colab": {
          "base_uri": "https://localhost:8080/"
        },
        "id": "pjpGs6PT_Kbe",
        "outputId": "44018248-0478-43c8-ed2c-f98f00a387d5"
      },
      "execution_count": null,
      "outputs": [
        {
          "output_type": "stream",
          "name": "stdout",
          "text": [
            "0 day input [0.10647464 0.09507827 0.12247965 0.11646838 0.10973075 0.09565435\n",
            " 0.08025047 0.07899812 0.08035066 0.08180338 0.07020664 0.10026299\n",
            " 0.10735128 0.10379461 0.10820288 0.10507201 0.10990607 0.11133375\n",
            " 0.10311835 0.10855354 0.11078272 0.10336882 0.09362555 0.08598622\n",
            " 0.10316844 0.10386976 0.10261741 0.09966187 0.0903444  0.08541014\n",
            " 0.08969317 0.08846587 0.09430182 0.09675642 0.0910958  0.07428929\n",
            " 0.06930495 0.0639449  0.06376957 0.07165936 0.06359424 0.0626675\n",
            " 0.05808391 0.04809017 0.05703193 0.05783344 0.04566061 0.04889167\n",
            " 0.04553538 0.05705698 0.05838447 0.05983719 0.06675016 0.06654978\n",
            " 0.06993112 0.07288666 0.07105823 0.07120852 0.07772073 0.08583594\n",
            " 0.08939261 0.08771446 0.09297433 0.09790858 0.09056982 0.09380088\n",
            " 0.09665623 0.11015654 0.11937383 0.11243582 0.11974953 0.11291171\n",
            " 0.11028178 0.11063244 0.11774577 0.11611772 0.12145272 0.11739512\n",
            " 0.11448967 0.10429555 0.10537257 0.10659987 0.09986224 0.10289292\n",
            " 0.10161553 0.09635567 0.09785848 0.11068253 0.11769568 0.11211021\n",
            " 0.11529117 0.10958046 0.10434565 0.1092799  0.11458986 0.11559173\n",
            " 0.12275517 0.12062617 0.12663745 0.13134627]\n",
            "0 day output [[0.12068772]]\n",
            "1 day input [0.09507827 0.12247965 0.11646838 0.10973075 0.09565435 0.08025047\n",
            " 0.07899812 0.08035066 0.08180338 0.07020664 0.10026299 0.10735128\n",
            " 0.10379461 0.10820288 0.10507201 0.10990607 0.11133375 0.10311835\n",
            " 0.10855354 0.11078272 0.10336882 0.09362555 0.08598622 0.10316844\n",
            " 0.10386976 0.10261741 0.09966187 0.0903444  0.08541014 0.08969317\n",
            " 0.08846587 0.09430182 0.09675642 0.0910958  0.07428929 0.06930495\n",
            " 0.0639449  0.06376957 0.07165936 0.06359424 0.0626675  0.05808391\n",
            " 0.04809017 0.05703193 0.05783344 0.04566061 0.04889167 0.04553538\n",
            " 0.05705698 0.05838447 0.05983719 0.06675016 0.06654978 0.06993112\n",
            " 0.07288666 0.07105823 0.07120852 0.07772073 0.08583594 0.08939261\n",
            " 0.08771446 0.09297433 0.09790858 0.09056982 0.09380088 0.09665623\n",
            " 0.11015654 0.11937383 0.11243582 0.11974953 0.11291171 0.11028178\n",
            " 0.11063244 0.11774577 0.11611772 0.12145272 0.11739512 0.11448967\n",
            " 0.10429555 0.10537257 0.10659987 0.09986224 0.10289292 0.10161553\n",
            " 0.09635567 0.09785848 0.11068253 0.11769568 0.11211021 0.11529117\n",
            " 0.10958046 0.10434565 0.1092799  0.11458986 0.11559173 0.12275517\n",
            " 0.12062617 0.12663745 0.13134627 0.12068772]\n",
            "1 day output [[0.1228167]]\n",
            "2 day input [0.12247965 0.11646838 0.10973075 0.09565435 0.08025047 0.07899812\n",
            " 0.08035066 0.08180338 0.07020664 0.10026299 0.10735128 0.10379461\n",
            " 0.10820288 0.10507201 0.10990607 0.11133375 0.10311835 0.10855354\n",
            " 0.11078272 0.10336882 0.09362555 0.08598622 0.10316844 0.10386976\n",
            " 0.10261741 0.09966187 0.0903444  0.08541014 0.08969317 0.08846587\n",
            " 0.09430182 0.09675642 0.0910958  0.07428929 0.06930495 0.0639449\n",
            " 0.06376957 0.07165936 0.06359424 0.0626675  0.05808391 0.04809017\n",
            " 0.05703193 0.05783344 0.04566061 0.04889167 0.04553538 0.05705698\n",
            " 0.05838447 0.05983719 0.06675016 0.06654978 0.06993112 0.07288666\n",
            " 0.07105823 0.07120852 0.07772073 0.08583594 0.08939261 0.08771446\n",
            " 0.09297433 0.09790858 0.09056982 0.09380088 0.09665623 0.11015654\n",
            " 0.11937383 0.11243582 0.11974953 0.11291171 0.11028178 0.11063244\n",
            " 0.11774577 0.11611772 0.12145272 0.11739512 0.11448967 0.10429555\n",
            " 0.10537257 0.10659987 0.09986224 0.10289292 0.10161553 0.09635567\n",
            " 0.09785848 0.11068253 0.11769568 0.11211021 0.11529117 0.10958046\n",
            " 0.10434565 0.1092799  0.11458986 0.11559173 0.12275517 0.12062617\n",
            " 0.12663745 0.13134627 0.12068772 0.1228167 ]\n",
            "2 day output [[0.12447082]]\n",
            "3 day input [0.11646838 0.10973075 0.09565435 0.08025047 0.07899812 0.08035066\n",
            " 0.08180338 0.07020664 0.10026299 0.10735128 0.10379461 0.10820288\n",
            " 0.10507201 0.10990607 0.11133375 0.10311835 0.10855354 0.11078272\n",
            " 0.10336882 0.09362555 0.08598622 0.10316844 0.10386976 0.10261741\n",
            " 0.09966187 0.0903444  0.08541014 0.08969317 0.08846587 0.09430182\n",
            " 0.09675642 0.0910958  0.07428929 0.06930495 0.0639449  0.06376957\n",
            " 0.07165936 0.06359424 0.0626675  0.05808391 0.04809017 0.05703193\n",
            " 0.05783344 0.04566061 0.04889167 0.04553538 0.05705698 0.05838447\n",
            " 0.05983719 0.06675016 0.06654978 0.06993112 0.07288666 0.07105823\n",
            " 0.07120852 0.07772073 0.08583594 0.08939261 0.08771446 0.09297433\n",
            " 0.09790858 0.09056982 0.09380088 0.09665623 0.11015654 0.11937383\n",
            " 0.11243582 0.11974953 0.11291171 0.11028178 0.11063244 0.11774577\n",
            " 0.11611772 0.12145272 0.11739512 0.11448967 0.10429555 0.10537257\n",
            " 0.10659987 0.09986224 0.10289292 0.10161553 0.09635567 0.09785848\n",
            " 0.11068253 0.11769568 0.11211021 0.11529117 0.10958046 0.10434565\n",
            " 0.1092799  0.11458986 0.11559173 0.12275517 0.12062617 0.12663745\n",
            " 0.13134627 0.12068772 0.1228167  0.12447082]\n",
            "3 day output [[0.12574156]]\n",
            "4 day input [0.10973075 0.09565435 0.08025047 0.07899812 0.08035066 0.08180338\n",
            " 0.07020664 0.10026299 0.10735128 0.10379461 0.10820288 0.10507201\n",
            " 0.10990607 0.11133375 0.10311835 0.10855354 0.11078272 0.10336882\n",
            " 0.09362555 0.08598622 0.10316844 0.10386976 0.10261741 0.09966187\n",
            " 0.0903444  0.08541014 0.08969317 0.08846587 0.09430182 0.09675642\n",
            " 0.0910958  0.07428929 0.06930495 0.0639449  0.06376957 0.07165936\n",
            " 0.06359424 0.0626675  0.05808391 0.04809017 0.05703193 0.05783344\n",
            " 0.04566061 0.04889167 0.04553538 0.05705698 0.05838447 0.05983719\n",
            " 0.06675016 0.06654978 0.06993112 0.07288666 0.07105823 0.07120852\n",
            " 0.07772073 0.08583594 0.08939261 0.08771446 0.09297433 0.09790858\n",
            " 0.09056982 0.09380088 0.09665623 0.11015654 0.11937383 0.11243582\n",
            " 0.11974953 0.11291171 0.11028178 0.11063244 0.11774577 0.11611772\n",
            " 0.12145272 0.11739512 0.11448967 0.10429555 0.10537257 0.10659987\n",
            " 0.09986224 0.10289292 0.10161553 0.09635567 0.09785848 0.11068253\n",
            " 0.11769568 0.11211021 0.11529117 0.10958046 0.10434565 0.1092799\n",
            " 0.11458986 0.11559173 0.12275517 0.12062617 0.12663745 0.13134627\n",
            " 0.12068772 0.1228167  0.12447082 0.12574156]\n",
            "4 day output [[0.1267558]]\n",
            "5 day input [0.09565435 0.08025047 0.07899812 0.08035066 0.08180338 0.07020664\n",
            " 0.10026299 0.10735128 0.10379461 0.10820288 0.10507201 0.10990607\n",
            " 0.11133375 0.10311835 0.10855354 0.11078272 0.10336882 0.09362555\n",
            " 0.08598622 0.10316844 0.10386976 0.10261741 0.09966187 0.0903444\n",
            " 0.08541014 0.08969317 0.08846587 0.09430182 0.09675642 0.0910958\n",
            " 0.07428929 0.06930495 0.0639449  0.06376957 0.07165936 0.06359424\n",
            " 0.0626675  0.05808391 0.04809017 0.05703193 0.05783344 0.04566061\n",
            " 0.04889167 0.04553538 0.05705698 0.05838447 0.05983719 0.06675016\n",
            " 0.06654978 0.06993112 0.07288666 0.07105823 0.07120852 0.07772073\n",
            " 0.08583594 0.08939261 0.08771446 0.09297433 0.09790858 0.09056982\n",
            " 0.09380088 0.09665623 0.11015654 0.11937383 0.11243582 0.11974953\n",
            " 0.11291171 0.11028178 0.11063244 0.11774577 0.11611772 0.12145272\n",
            " 0.11739512 0.11448967 0.10429555 0.10537257 0.10659987 0.09986224\n",
            " 0.10289292 0.10161553 0.09635567 0.09785848 0.11068253 0.11769568\n",
            " 0.11211021 0.11529117 0.10958046 0.10434565 0.1092799  0.11458986\n",
            " 0.11559173 0.12275517 0.12062617 0.12663745 0.13134627 0.12068772\n",
            " 0.1228167  0.12447082 0.12574156 0.1267558 ]\n",
            "5 day output [[0.127612]]\n",
            "6 day input [0.08025047 0.07899812 0.08035066 0.08180338 0.07020664 0.10026299\n",
            " 0.10735128 0.10379461 0.10820288 0.10507201 0.10990607 0.11133375\n",
            " 0.10311835 0.10855354 0.11078272 0.10336882 0.09362555 0.08598622\n",
            " 0.10316844 0.10386976 0.10261741 0.09966187 0.0903444  0.08541014\n",
            " 0.08969317 0.08846587 0.09430182 0.09675642 0.0910958  0.07428929\n",
            " 0.06930495 0.0639449  0.06376957 0.07165936 0.06359424 0.0626675\n",
            " 0.05808391 0.04809017 0.05703193 0.05783344 0.04566061 0.04889167\n",
            " 0.04553538 0.05705698 0.05838447 0.05983719 0.06675016 0.06654978\n",
            " 0.06993112 0.07288666 0.07105823 0.07120852 0.07772073 0.08583594\n",
            " 0.08939261 0.08771446 0.09297433 0.09790858 0.09056982 0.09380088\n",
            " 0.09665623 0.11015654 0.11937383 0.11243582 0.11974953 0.11291171\n",
            " 0.11028178 0.11063244 0.11774577 0.11611772 0.12145272 0.11739512\n",
            " 0.11448967 0.10429555 0.10537257 0.10659987 0.09986224 0.10289292\n",
            " 0.10161553 0.09635567 0.09785848 0.11068253 0.11769568 0.11211021\n",
            " 0.11529117 0.10958046 0.10434565 0.1092799  0.11458986 0.11559173\n",
            " 0.12275517 0.12062617 0.12663745 0.13134627 0.12068772 0.1228167\n",
            " 0.12447082 0.12574156 0.1267558  0.12761199]\n",
            "6 day output [[0.12837191]]\n",
            "7 day input [0.07899812 0.08035066 0.08180338 0.07020664 0.10026299 0.10735128\n",
            " 0.10379461 0.10820288 0.10507201 0.10990607 0.11133375 0.10311835\n",
            " 0.10855354 0.11078272 0.10336882 0.09362555 0.08598622 0.10316844\n",
            " 0.10386976 0.10261741 0.09966187 0.0903444  0.08541014 0.08969317\n",
            " 0.08846587 0.09430182 0.09675642 0.0910958  0.07428929 0.06930495\n",
            " 0.0639449  0.06376957 0.07165936 0.06359424 0.0626675  0.05808391\n",
            " 0.04809017 0.05703193 0.05783344 0.04566061 0.04889167 0.04553538\n",
            " 0.05705698 0.05838447 0.05983719 0.06675016 0.06654978 0.06993112\n",
            " 0.07288666 0.07105823 0.07120852 0.07772073 0.08583594 0.08939261\n",
            " 0.08771446 0.09297433 0.09790858 0.09056982 0.09380088 0.09665623\n",
            " 0.11015654 0.11937383 0.11243582 0.11974953 0.11291171 0.11028178\n",
            " 0.11063244 0.11774577 0.11611772 0.12145272 0.11739512 0.11448967\n",
            " 0.10429555 0.10537257 0.10659987 0.09986224 0.10289292 0.10161553\n",
            " 0.09635567 0.09785848 0.11068253 0.11769568 0.11211021 0.11529117\n",
            " 0.10958046 0.10434565 0.1092799  0.11458986 0.11559173 0.12275517\n",
            " 0.12062617 0.12663745 0.13134627 0.12068772 0.1228167  0.12447082\n",
            " 0.12574156 0.1267558  0.12761199 0.12837191]\n",
            "7 day output [[0.12906975]]\n",
            "8 day input [0.08035066 0.08180338 0.07020664 0.10026299 0.10735128 0.10379461\n",
            " 0.10820288 0.10507201 0.10990607 0.11133375 0.10311835 0.10855354\n",
            " 0.11078272 0.10336882 0.09362555 0.08598622 0.10316844 0.10386976\n",
            " 0.10261741 0.09966187 0.0903444  0.08541014 0.08969317 0.08846587\n",
            " 0.09430182 0.09675642 0.0910958  0.07428929 0.06930495 0.0639449\n",
            " 0.06376957 0.07165936 0.06359424 0.0626675  0.05808391 0.04809017\n",
            " 0.05703193 0.05783344 0.04566061 0.04889167 0.04553538 0.05705698\n",
            " 0.05838447 0.05983719 0.06675016 0.06654978 0.06993112 0.07288666\n",
            " 0.07105823 0.07120852 0.07772073 0.08583594 0.08939261 0.08771446\n",
            " 0.09297433 0.09790858 0.09056982 0.09380088 0.09665623 0.11015654\n",
            " 0.11937383 0.11243582 0.11974953 0.11291171 0.11028178 0.11063244\n",
            " 0.11774577 0.11611772 0.12145272 0.11739512 0.11448967 0.10429555\n",
            " 0.10537257 0.10659987 0.09986224 0.10289292 0.10161553 0.09635567\n",
            " 0.09785848 0.11068253 0.11769568 0.11211021 0.11529117 0.10958046\n",
            " 0.10434565 0.1092799  0.11458986 0.11559173 0.12275517 0.12062617\n",
            " 0.12663745 0.13134627 0.12068772 0.1228167  0.12447082 0.12574156\n",
            " 0.1267558  0.12761199 0.12837191 0.12906975]\n",
            "8 day output [[0.12972304]]\n",
            "9 day input [0.08180338 0.07020664 0.10026299 0.10735128 0.10379461 0.10820288\n",
            " 0.10507201 0.10990607 0.11133375 0.10311835 0.10855354 0.11078272\n",
            " 0.10336882 0.09362555 0.08598622 0.10316844 0.10386976 0.10261741\n",
            " 0.09966187 0.0903444  0.08541014 0.08969317 0.08846587 0.09430182\n",
            " 0.09675642 0.0910958  0.07428929 0.06930495 0.0639449  0.06376957\n",
            " 0.07165936 0.06359424 0.0626675  0.05808391 0.04809017 0.05703193\n",
            " 0.05783344 0.04566061 0.04889167 0.04553538 0.05705698 0.05838447\n",
            " 0.05983719 0.06675016 0.06654978 0.06993112 0.07288666 0.07105823\n",
            " 0.07120852 0.07772073 0.08583594 0.08939261 0.08771446 0.09297433\n",
            " 0.09790858 0.09056982 0.09380088 0.09665623 0.11015654 0.11937383\n",
            " 0.11243582 0.11974953 0.11291171 0.11028178 0.11063244 0.11774577\n",
            " 0.11611772 0.12145272 0.11739512 0.11448967 0.10429555 0.10537257\n",
            " 0.10659987 0.09986224 0.10289292 0.10161553 0.09635567 0.09785848\n",
            " 0.11068253 0.11769568 0.11211021 0.11529117 0.10958046 0.10434565\n",
            " 0.1092799  0.11458986 0.11559173 0.12275517 0.12062617 0.12663745\n",
            " 0.13134627 0.12068772 0.1228167  0.12447082 0.12574156 0.1267558\n",
            " 0.12761199 0.12837191 0.12906975 0.12972304]\n",
            "9 day output [[0.13034096]]\n",
            "10 day input [0.07020664 0.10026299 0.10735128 0.10379461 0.10820288 0.10507201\n",
            " 0.10990607 0.11133375 0.10311835 0.10855354 0.11078272 0.10336882\n",
            " 0.09362555 0.08598622 0.10316844 0.10386976 0.10261741 0.09966187\n",
            " 0.0903444  0.08541014 0.08969317 0.08846587 0.09430182 0.09675642\n",
            " 0.0910958  0.07428929 0.06930495 0.0639449  0.06376957 0.07165936\n",
            " 0.06359424 0.0626675  0.05808391 0.04809017 0.05703193 0.05783344\n",
            " 0.04566061 0.04889167 0.04553538 0.05705698 0.05838447 0.05983719\n",
            " 0.06675016 0.06654978 0.06993112 0.07288666 0.07105823 0.07120852\n",
            " 0.07772073 0.08583594 0.08939261 0.08771446 0.09297433 0.09790858\n",
            " 0.09056982 0.09380088 0.09665623 0.11015654 0.11937383 0.11243582\n",
            " 0.11974953 0.11291171 0.11028178 0.11063244 0.11774577 0.11611772\n",
            " 0.12145272 0.11739512 0.11448967 0.10429555 0.10537257 0.10659987\n",
            " 0.09986224 0.10289292 0.10161553 0.09635567 0.09785848 0.11068253\n",
            " 0.11769568 0.11211021 0.11529117 0.10958046 0.10434565 0.1092799\n",
            " 0.11458986 0.11559173 0.12275517 0.12062617 0.12663745 0.13134627\n",
            " 0.12068772 0.1228167  0.12447082 0.12574156 0.1267558  0.12761199\n",
            " 0.12837191 0.12906975 0.12972304 0.13034096]\n",
            "10 day output [[0.13092898]]\n",
            "11 day input [0.10026299 0.10735128 0.10379461 0.10820288 0.10507201 0.10990607\n",
            " 0.11133375 0.10311835 0.10855354 0.11078272 0.10336882 0.09362555\n",
            " 0.08598622 0.10316844 0.10386976 0.10261741 0.09966187 0.0903444\n",
            " 0.08541014 0.08969317 0.08846587 0.09430182 0.09675642 0.0910958\n",
            " 0.07428929 0.06930495 0.0639449  0.06376957 0.07165936 0.06359424\n",
            " 0.0626675  0.05808391 0.04809017 0.05703193 0.05783344 0.04566061\n",
            " 0.04889167 0.04553538 0.05705698 0.05838447 0.05983719 0.06675016\n",
            " 0.06654978 0.06993112 0.07288666 0.07105823 0.07120852 0.07772073\n",
            " 0.08583594 0.08939261 0.08771446 0.09297433 0.09790858 0.09056982\n",
            " 0.09380088 0.09665623 0.11015654 0.11937383 0.11243582 0.11974953\n",
            " 0.11291171 0.11028178 0.11063244 0.11774577 0.11611772 0.12145272\n",
            " 0.11739512 0.11448967 0.10429555 0.10537257 0.10659987 0.09986224\n",
            " 0.10289292 0.10161553 0.09635567 0.09785848 0.11068253 0.11769568\n",
            " 0.11211021 0.11529117 0.10958046 0.10434565 0.1092799  0.11458986\n",
            " 0.11559173 0.12275517 0.12062617 0.12663745 0.13134627 0.12068772\n",
            " 0.1228167  0.12447082 0.12574156 0.1267558  0.12761199 0.12837191\n",
            " 0.12906975 0.12972304 0.13034096 0.13092898]\n",
            "11 day output [[0.1314914]]\n",
            "12 day input [0.10735128 0.10379461 0.10820288 0.10507201 0.10990607 0.11133375\n",
            " 0.10311835 0.10855354 0.11078272 0.10336882 0.09362555 0.08598622\n",
            " 0.10316844 0.10386976 0.10261741 0.09966187 0.0903444  0.08541014\n",
            " 0.08969317 0.08846587 0.09430182 0.09675642 0.0910958  0.07428929\n",
            " 0.06930495 0.0639449  0.06376957 0.07165936 0.06359424 0.0626675\n",
            " 0.05808391 0.04809017 0.05703193 0.05783344 0.04566061 0.04889167\n",
            " 0.04553538 0.05705698 0.05838447 0.05983719 0.06675016 0.06654978\n",
            " 0.06993112 0.07288666 0.07105823 0.07120852 0.07772073 0.08583594\n",
            " 0.08939261 0.08771446 0.09297433 0.09790858 0.09056982 0.09380088\n",
            " 0.09665623 0.11015654 0.11937383 0.11243582 0.11974953 0.11291171\n",
            " 0.11028178 0.11063244 0.11774577 0.11611772 0.12145272 0.11739512\n",
            " 0.11448967 0.10429555 0.10537257 0.10659987 0.09986224 0.10289292\n",
            " 0.10161553 0.09635567 0.09785848 0.11068253 0.11769568 0.11211021\n",
            " 0.11529117 0.10958046 0.10434565 0.1092799  0.11458986 0.11559173\n",
            " 0.12275517 0.12062617 0.12663745 0.13134627 0.12068772 0.1228167\n",
            " 0.12447082 0.12574156 0.1267558  0.12761199 0.12837191 0.12906975\n",
            " 0.12972304 0.13034096 0.13092898 0.13149139]\n",
            "12 day output [[0.13203199]]\n",
            "13 day input [0.10379461 0.10820288 0.10507201 0.10990607 0.11133375 0.10311835\n",
            " 0.10855354 0.11078272 0.10336882 0.09362555 0.08598622 0.10316844\n",
            " 0.10386976 0.10261741 0.09966187 0.0903444  0.08541014 0.08969317\n",
            " 0.08846587 0.09430182 0.09675642 0.0910958  0.07428929 0.06930495\n",
            " 0.0639449  0.06376957 0.07165936 0.06359424 0.0626675  0.05808391\n",
            " 0.04809017 0.05703193 0.05783344 0.04566061 0.04889167 0.04553538\n",
            " 0.05705698 0.05838447 0.05983719 0.06675016 0.06654978 0.06993112\n",
            " 0.07288666 0.07105823 0.07120852 0.07772073 0.08583594 0.08939261\n",
            " 0.08771446 0.09297433 0.09790858 0.09056982 0.09380088 0.09665623\n",
            " 0.11015654 0.11937383 0.11243582 0.11974953 0.11291171 0.11028178\n",
            " 0.11063244 0.11774577 0.11611772 0.12145272 0.11739512 0.11448967\n",
            " 0.10429555 0.10537257 0.10659987 0.09986224 0.10289292 0.10161553\n",
            " 0.09635567 0.09785848 0.11068253 0.11769568 0.11211021 0.11529117\n",
            " 0.10958046 0.10434565 0.1092799  0.11458986 0.11559173 0.12275517\n",
            " 0.12062617 0.12663745 0.13134627 0.12068772 0.1228167  0.12447082\n",
            " 0.12574156 0.1267558  0.12761199 0.12837191 0.12906975 0.12972304\n",
            " 0.13034096 0.13092898 0.13149139 0.13203199]\n",
            "13 day output [[0.13255487]]\n",
            "14 day input [0.10820288 0.10507201 0.10990607 0.11133375 0.10311835 0.10855354\n",
            " 0.11078272 0.10336882 0.09362555 0.08598622 0.10316844 0.10386976\n",
            " 0.10261741 0.09966187 0.0903444  0.08541014 0.08969317 0.08846587\n",
            " 0.09430182 0.09675642 0.0910958  0.07428929 0.06930495 0.0639449\n",
            " 0.06376957 0.07165936 0.06359424 0.0626675  0.05808391 0.04809017\n",
            " 0.05703193 0.05783344 0.04566061 0.04889167 0.04553538 0.05705698\n",
            " 0.05838447 0.05983719 0.06675016 0.06654978 0.06993112 0.07288666\n",
            " 0.07105823 0.07120852 0.07772073 0.08583594 0.08939261 0.08771446\n",
            " 0.09297433 0.09790858 0.09056982 0.09380088 0.09665623 0.11015654\n",
            " 0.11937383 0.11243582 0.11974953 0.11291171 0.11028178 0.11063244\n",
            " 0.11774577 0.11611772 0.12145272 0.11739512 0.11448967 0.10429555\n",
            " 0.10537257 0.10659987 0.09986224 0.10289292 0.10161553 0.09635567\n",
            " 0.09785848 0.11068253 0.11769568 0.11211021 0.11529117 0.10958046\n",
            " 0.10434565 0.1092799  0.11458986 0.11559173 0.12275517 0.12062617\n",
            " 0.12663745 0.13134627 0.12068772 0.1228167  0.12447082 0.12574156\n",
            " 0.1267558  0.12761199 0.12837191 0.12906975 0.12972304 0.13034096\n",
            " 0.13092898 0.13149139 0.13203199 0.13255487]\n",
            "14 day output [[0.1330639]]\n",
            "15 day input [0.10507201 0.10990607 0.11133375 0.10311835 0.10855354 0.11078272\n",
            " 0.10336882 0.09362555 0.08598622 0.10316844 0.10386976 0.10261741\n",
            " 0.09966187 0.0903444  0.08541014 0.08969317 0.08846587 0.09430182\n",
            " 0.09675642 0.0910958  0.07428929 0.06930495 0.0639449  0.06376957\n",
            " 0.07165936 0.06359424 0.0626675  0.05808391 0.04809017 0.05703193\n",
            " 0.05783344 0.04566061 0.04889167 0.04553538 0.05705698 0.05838447\n",
            " 0.05983719 0.06675016 0.06654978 0.06993112 0.07288666 0.07105823\n",
            " 0.07120852 0.07772073 0.08583594 0.08939261 0.08771446 0.09297433\n",
            " 0.09790858 0.09056982 0.09380088 0.09665623 0.11015654 0.11937383\n",
            " 0.11243582 0.11974953 0.11291171 0.11028178 0.11063244 0.11774577\n",
            " 0.11611772 0.12145272 0.11739512 0.11448967 0.10429555 0.10537257\n",
            " 0.10659987 0.09986224 0.10289292 0.10161553 0.09635567 0.09785848\n",
            " 0.11068253 0.11769568 0.11211021 0.11529117 0.10958046 0.10434565\n",
            " 0.1092799  0.11458986 0.11559173 0.12275517 0.12062617 0.12663745\n",
            " 0.13134627 0.12068772 0.1228167  0.12447082 0.12574156 0.1267558\n",
            " 0.12761199 0.12837191 0.12906975 0.12972304 0.13034096 0.13092898\n",
            " 0.13149139 0.13203199 0.13255487 0.1330639 ]\n",
            "15 day output [[0.13356273]]\n",
            "16 day input [0.10990607 0.11133375 0.10311835 0.10855354 0.11078272 0.10336882\n",
            " 0.09362555 0.08598622 0.10316844 0.10386976 0.10261741 0.09966187\n",
            " 0.0903444  0.08541014 0.08969317 0.08846587 0.09430182 0.09675642\n",
            " 0.0910958  0.07428929 0.06930495 0.0639449  0.06376957 0.07165936\n",
            " 0.06359424 0.0626675  0.05808391 0.04809017 0.05703193 0.05783344\n",
            " 0.04566061 0.04889167 0.04553538 0.05705698 0.05838447 0.05983719\n",
            " 0.06675016 0.06654978 0.06993112 0.07288666 0.07105823 0.07120852\n",
            " 0.07772073 0.08583594 0.08939261 0.08771446 0.09297433 0.09790858\n",
            " 0.09056982 0.09380088 0.09665623 0.11015654 0.11937383 0.11243582\n",
            " 0.11974953 0.11291171 0.11028178 0.11063244 0.11774577 0.11611772\n",
            " 0.12145272 0.11739512 0.11448967 0.10429555 0.10537257 0.10659987\n",
            " 0.09986224 0.10289292 0.10161553 0.09635567 0.09785848 0.11068253\n",
            " 0.11769568 0.11211021 0.11529117 0.10958046 0.10434565 0.1092799\n",
            " 0.11458986 0.11559173 0.12275517 0.12062617 0.12663745 0.13134627\n",
            " 0.12068772 0.1228167  0.12447082 0.12574156 0.1267558  0.12761199\n",
            " 0.12837191 0.12906975 0.12972304 0.13034096 0.13092898 0.13149139\n",
            " 0.13203199 0.13255487 0.1330639  0.13356273]\n",
            "16 day output [[0.13405462]]\n",
            "17 day input [0.11133375 0.10311835 0.10855354 0.11078272 0.10336882 0.09362555\n",
            " 0.08598622 0.10316844 0.10386976 0.10261741 0.09966187 0.0903444\n",
            " 0.08541014 0.08969317 0.08846587 0.09430182 0.09675642 0.0910958\n",
            " 0.07428929 0.06930495 0.0639449  0.06376957 0.07165936 0.06359424\n",
            " 0.0626675  0.05808391 0.04809017 0.05703193 0.05783344 0.04566061\n",
            " 0.04889167 0.04553538 0.05705698 0.05838447 0.05983719 0.06675016\n",
            " 0.06654978 0.06993112 0.07288666 0.07105823 0.07120852 0.07772073\n",
            " 0.08583594 0.08939261 0.08771446 0.09297433 0.09790858 0.09056982\n",
            " 0.09380088 0.09665623 0.11015654 0.11937383 0.11243582 0.11974953\n",
            " 0.11291171 0.11028178 0.11063244 0.11774577 0.11611772 0.12145272\n",
            " 0.11739512 0.11448967 0.10429555 0.10537257 0.10659987 0.09986224\n",
            " 0.10289292 0.10161553 0.09635567 0.09785848 0.11068253 0.11769568\n",
            " 0.11211021 0.11529117 0.10958046 0.10434565 0.1092799  0.11458986\n",
            " 0.11559173 0.12275517 0.12062617 0.12663745 0.13134627 0.12068772\n",
            " 0.1228167  0.12447082 0.12574156 0.1267558  0.12761199 0.12837191\n",
            " 0.12906975 0.12972304 0.13034096 0.13092898 0.13149139 0.13203199\n",
            " 0.13255487 0.1330639  0.13356273 0.13405462]\n",
            "17 day output [[0.13454236]]\n",
            "18 day input [0.10311835 0.10855354 0.11078272 0.10336882 0.09362555 0.08598622\n",
            " 0.10316844 0.10386976 0.10261741 0.09966187 0.0903444  0.08541014\n",
            " 0.08969317 0.08846587 0.09430182 0.09675642 0.0910958  0.07428929\n",
            " 0.06930495 0.0639449  0.06376957 0.07165936 0.06359424 0.0626675\n",
            " 0.05808391 0.04809017 0.05703193 0.05783344 0.04566061 0.04889167\n",
            " 0.04553538 0.05705698 0.05838447 0.05983719 0.06675016 0.06654978\n",
            " 0.06993112 0.07288666 0.07105823 0.07120852 0.07772073 0.08583594\n",
            " 0.08939261 0.08771446 0.09297433 0.09790858 0.09056982 0.09380088\n",
            " 0.09665623 0.11015654 0.11937383 0.11243582 0.11974953 0.11291171\n",
            " 0.11028178 0.11063244 0.11774577 0.11611772 0.12145272 0.11739512\n",
            " 0.11448967 0.10429555 0.10537257 0.10659987 0.09986224 0.10289292\n",
            " 0.10161553 0.09635567 0.09785848 0.11068253 0.11769568 0.11211021\n",
            " 0.11529117 0.10958046 0.10434565 0.1092799  0.11458986 0.11559173\n",
            " 0.12275517 0.12062617 0.12663745 0.13134627 0.12068772 0.1228167\n",
            " 0.12447082 0.12574156 0.1267558  0.12761199 0.12837191 0.12906975\n",
            " 0.12972304 0.13034096 0.13092898 0.13149139 0.13203199 0.13255487\n",
            " 0.1330639  0.13356273 0.13405462 0.13454236]\n",
            "18 day output [[0.13502838]]\n",
            "19 day input [0.10855354 0.11078272 0.10336882 0.09362555 0.08598622 0.10316844\n",
            " 0.10386976 0.10261741 0.09966187 0.0903444  0.08541014 0.08969317\n",
            " 0.08846587 0.09430182 0.09675642 0.0910958  0.07428929 0.06930495\n",
            " 0.0639449  0.06376957 0.07165936 0.06359424 0.0626675  0.05808391\n",
            " 0.04809017 0.05703193 0.05783344 0.04566061 0.04889167 0.04553538\n",
            " 0.05705698 0.05838447 0.05983719 0.06675016 0.06654978 0.06993112\n",
            " 0.07288666 0.07105823 0.07120852 0.07772073 0.08583594 0.08939261\n",
            " 0.08771446 0.09297433 0.09790858 0.09056982 0.09380088 0.09665623\n",
            " 0.11015654 0.11937383 0.11243582 0.11974953 0.11291171 0.11028178\n",
            " 0.11063244 0.11774577 0.11611772 0.12145272 0.11739512 0.11448967\n",
            " 0.10429555 0.10537257 0.10659987 0.09986224 0.10289292 0.10161553\n",
            " 0.09635567 0.09785848 0.11068253 0.11769568 0.11211021 0.11529117\n",
            " 0.10958046 0.10434565 0.1092799  0.11458986 0.11559173 0.12275517\n",
            " 0.12062617 0.12663745 0.13134627 0.12068772 0.1228167  0.12447082\n",
            " 0.12574156 0.1267558  0.12761199 0.12837191 0.12906975 0.12972304\n",
            " 0.13034096 0.13092898 0.13149139 0.13203199 0.13255487 0.1330639\n",
            " 0.13356273 0.13405462 0.13454236 0.13502838]\n",
            "19 day output [[0.13551454]]\n",
            "20 day input [0.11078272 0.10336882 0.09362555 0.08598622 0.10316844 0.10386976\n",
            " 0.10261741 0.09966187 0.0903444  0.08541014 0.08969317 0.08846587\n",
            " 0.09430182 0.09675642 0.0910958  0.07428929 0.06930495 0.0639449\n",
            " 0.06376957 0.07165936 0.06359424 0.0626675  0.05808391 0.04809017\n",
            " 0.05703193 0.05783344 0.04566061 0.04889167 0.04553538 0.05705698\n",
            " 0.05838447 0.05983719 0.06675016 0.06654978 0.06993112 0.07288666\n",
            " 0.07105823 0.07120852 0.07772073 0.08583594 0.08939261 0.08771446\n",
            " 0.09297433 0.09790858 0.09056982 0.09380088 0.09665623 0.11015654\n",
            " 0.11937383 0.11243582 0.11974953 0.11291171 0.11028178 0.11063244\n",
            " 0.11774577 0.11611772 0.12145272 0.11739512 0.11448967 0.10429555\n",
            " 0.10537257 0.10659987 0.09986224 0.10289292 0.10161553 0.09635567\n",
            " 0.09785848 0.11068253 0.11769568 0.11211021 0.11529117 0.10958046\n",
            " 0.10434565 0.1092799  0.11458986 0.11559173 0.12275517 0.12062617\n",
            " 0.12663745 0.13134627 0.12068772 0.1228167  0.12447082 0.12574156\n",
            " 0.1267558  0.12761199 0.12837191 0.12906975 0.12972304 0.13034096\n",
            " 0.13092898 0.13149139 0.13203199 0.13255487 0.1330639  0.13356273\n",
            " 0.13405462 0.13454236 0.13502838 0.13551454]\n",
            "20 day output [[0.13600227]]\n",
            "21 day input [0.10336882 0.09362555 0.08598622 0.10316844 0.10386976 0.10261741\n",
            " 0.09966187 0.0903444  0.08541014 0.08969317 0.08846587 0.09430182\n",
            " 0.09675642 0.0910958  0.07428929 0.06930495 0.0639449  0.06376957\n",
            " 0.07165936 0.06359424 0.0626675  0.05808391 0.04809017 0.05703193\n",
            " 0.05783344 0.04566061 0.04889167 0.04553538 0.05705698 0.05838447\n",
            " 0.05983719 0.06675016 0.06654978 0.06993112 0.07288666 0.07105823\n",
            " 0.07120852 0.07772073 0.08583594 0.08939261 0.08771446 0.09297433\n",
            " 0.09790858 0.09056982 0.09380088 0.09665623 0.11015654 0.11937383\n",
            " 0.11243582 0.11974953 0.11291171 0.11028178 0.11063244 0.11774577\n",
            " 0.11611772 0.12145272 0.11739512 0.11448967 0.10429555 0.10537257\n",
            " 0.10659987 0.09986224 0.10289292 0.10161553 0.09635567 0.09785848\n",
            " 0.11068253 0.11769568 0.11211021 0.11529117 0.10958046 0.10434565\n",
            " 0.1092799  0.11458986 0.11559173 0.12275517 0.12062617 0.12663745\n",
            " 0.13134627 0.12068772 0.1228167  0.12447082 0.12574156 0.1267558\n",
            " 0.12761199 0.12837191 0.12906975 0.12972304 0.13034096 0.13092898\n",
            " 0.13149139 0.13203199 0.13255487 0.1330639  0.13356273 0.13405462\n",
            " 0.13454236 0.13502838 0.13551454 0.13600227]\n",
            "21 day output [[0.13649257]]\n",
            "22 day input [0.09362555 0.08598622 0.10316844 0.10386976 0.10261741 0.09966187\n",
            " 0.0903444  0.08541014 0.08969317 0.08846587 0.09430182 0.09675642\n",
            " 0.0910958  0.07428929 0.06930495 0.0639449  0.06376957 0.07165936\n",
            " 0.06359424 0.0626675  0.05808391 0.04809017 0.05703193 0.05783344\n",
            " 0.04566061 0.04889167 0.04553538 0.05705698 0.05838447 0.05983719\n",
            " 0.06675016 0.06654978 0.06993112 0.07288666 0.07105823 0.07120852\n",
            " 0.07772073 0.08583594 0.08939261 0.08771446 0.09297433 0.09790858\n",
            " 0.09056982 0.09380088 0.09665623 0.11015654 0.11937383 0.11243582\n",
            " 0.11974953 0.11291171 0.11028178 0.11063244 0.11774577 0.11611772\n",
            " 0.12145272 0.11739512 0.11448967 0.10429555 0.10537257 0.10659987\n",
            " 0.09986224 0.10289292 0.10161553 0.09635567 0.09785848 0.11068253\n",
            " 0.11769568 0.11211021 0.11529117 0.10958046 0.10434565 0.1092799\n",
            " 0.11458986 0.11559173 0.12275517 0.12062617 0.12663745 0.13134627\n",
            " 0.12068772 0.1228167  0.12447082 0.12574156 0.1267558  0.12761199\n",
            " 0.12837191 0.12906975 0.12972304 0.13034096 0.13092898 0.13149139\n",
            " 0.13203199 0.13255487 0.1330639  0.13356273 0.13405462 0.13454236\n",
            " 0.13502838 0.13551454 0.13600227 0.13649257]\n",
            "22 day output [[0.13698606]]\n",
            "23 day input [0.08598622 0.10316844 0.10386976 0.10261741 0.09966187 0.0903444\n",
            " 0.08541014 0.08969317 0.08846587 0.09430182 0.09675642 0.0910958\n",
            " 0.07428929 0.06930495 0.0639449  0.06376957 0.07165936 0.06359424\n",
            " 0.0626675  0.05808391 0.04809017 0.05703193 0.05783344 0.04566061\n",
            " 0.04889167 0.04553538 0.05705698 0.05838447 0.05983719 0.06675016\n",
            " 0.06654978 0.06993112 0.07288666 0.07105823 0.07120852 0.07772073\n",
            " 0.08583594 0.08939261 0.08771446 0.09297433 0.09790858 0.09056982\n",
            " 0.09380088 0.09665623 0.11015654 0.11937383 0.11243582 0.11974953\n",
            " 0.11291171 0.11028178 0.11063244 0.11774577 0.11611772 0.12145272\n",
            " 0.11739512 0.11448967 0.10429555 0.10537257 0.10659987 0.09986224\n",
            " 0.10289292 0.10161553 0.09635567 0.09785848 0.11068253 0.11769568\n",
            " 0.11211021 0.11529117 0.10958046 0.10434565 0.1092799  0.11458986\n",
            " 0.11559173 0.12275517 0.12062617 0.12663745 0.13134627 0.12068772\n",
            " 0.1228167  0.12447082 0.12574156 0.1267558  0.12761199 0.12837191\n",
            " 0.12906975 0.12972304 0.13034096 0.13092898 0.13149139 0.13203199\n",
            " 0.13255487 0.1330639  0.13356273 0.13405462 0.13454236 0.13502838\n",
            " 0.13551454 0.13600227 0.13649257 0.13698606]\n",
            "23 day output [[0.13748316]]\n",
            "24 day input [0.10316844 0.10386976 0.10261741 0.09966187 0.0903444  0.08541014\n",
            " 0.08969317 0.08846587 0.09430182 0.09675642 0.0910958  0.07428929\n",
            " 0.06930495 0.0639449  0.06376957 0.07165936 0.06359424 0.0626675\n",
            " 0.05808391 0.04809017 0.05703193 0.05783344 0.04566061 0.04889167\n",
            " 0.04553538 0.05705698 0.05838447 0.05983719 0.06675016 0.06654978\n",
            " 0.06993112 0.07288666 0.07105823 0.07120852 0.07772073 0.08583594\n",
            " 0.08939261 0.08771446 0.09297433 0.09790858 0.09056982 0.09380088\n",
            " 0.09665623 0.11015654 0.11937383 0.11243582 0.11974953 0.11291171\n",
            " 0.11028178 0.11063244 0.11774577 0.11611772 0.12145272 0.11739512\n",
            " 0.11448967 0.10429555 0.10537257 0.10659987 0.09986224 0.10289292\n",
            " 0.10161553 0.09635567 0.09785848 0.11068253 0.11769568 0.11211021\n",
            " 0.11529117 0.10958046 0.10434565 0.1092799  0.11458986 0.11559173\n",
            " 0.12275517 0.12062617 0.12663745 0.13134627 0.12068772 0.1228167\n",
            " 0.12447082 0.12574156 0.1267558  0.12761199 0.12837191 0.12906975\n",
            " 0.12972304 0.13034096 0.13092898 0.13149139 0.13203199 0.13255487\n",
            " 0.1330639  0.13356273 0.13405462 0.13454236 0.13502838 0.13551454\n",
            " 0.13600227 0.13649257 0.13698606 0.13748316]\n",
            "24 day output [[0.13798384]]\n",
            "25 day input [0.10386976 0.10261741 0.09966187 0.0903444  0.08541014 0.08969317\n",
            " 0.08846587 0.09430182 0.09675642 0.0910958  0.07428929 0.06930495\n",
            " 0.0639449  0.06376957 0.07165936 0.06359424 0.0626675  0.05808391\n",
            " 0.04809017 0.05703193 0.05783344 0.04566061 0.04889167 0.04553538\n",
            " 0.05705698 0.05838447 0.05983719 0.06675016 0.06654978 0.06993112\n",
            " 0.07288666 0.07105823 0.07120852 0.07772073 0.08583594 0.08939261\n",
            " 0.08771446 0.09297433 0.09790858 0.09056982 0.09380088 0.09665623\n",
            " 0.11015654 0.11937383 0.11243582 0.11974953 0.11291171 0.11028178\n",
            " 0.11063244 0.11774577 0.11611772 0.12145272 0.11739512 0.11448967\n",
            " 0.10429555 0.10537257 0.10659987 0.09986224 0.10289292 0.10161553\n",
            " 0.09635567 0.09785848 0.11068253 0.11769568 0.11211021 0.11529117\n",
            " 0.10958046 0.10434565 0.1092799  0.11458986 0.11559173 0.12275517\n",
            " 0.12062617 0.12663745 0.13134627 0.12068772 0.1228167  0.12447082\n",
            " 0.12574156 0.1267558  0.12761199 0.12837191 0.12906975 0.12972304\n",
            " 0.13034096 0.13092898 0.13149139 0.13203199 0.13255487 0.1330639\n",
            " 0.13356273 0.13405462 0.13454236 0.13502838 0.13551454 0.13600227\n",
            " 0.13649257 0.13698606 0.13748316 0.13798384]\n",
            "25 day output [[0.13848783]]\n",
            "26 day input [0.10261741 0.09966187 0.0903444  0.08541014 0.08969317 0.08846587\n",
            " 0.09430182 0.09675642 0.0910958  0.07428929 0.06930495 0.0639449\n",
            " 0.06376957 0.07165936 0.06359424 0.0626675  0.05808391 0.04809017\n",
            " 0.05703193 0.05783344 0.04566061 0.04889167 0.04553538 0.05705698\n",
            " 0.05838447 0.05983719 0.06675016 0.06654978 0.06993112 0.07288666\n",
            " 0.07105823 0.07120852 0.07772073 0.08583594 0.08939261 0.08771446\n",
            " 0.09297433 0.09790858 0.09056982 0.09380088 0.09665623 0.11015654\n",
            " 0.11937383 0.11243582 0.11974953 0.11291171 0.11028178 0.11063244\n",
            " 0.11774577 0.11611772 0.12145272 0.11739512 0.11448967 0.10429555\n",
            " 0.10537257 0.10659987 0.09986224 0.10289292 0.10161553 0.09635567\n",
            " 0.09785848 0.11068253 0.11769568 0.11211021 0.11529117 0.10958046\n",
            " 0.10434565 0.1092799  0.11458986 0.11559173 0.12275517 0.12062617\n",
            " 0.12663745 0.13134627 0.12068772 0.1228167  0.12447082 0.12574156\n",
            " 0.1267558  0.12761199 0.12837191 0.12906975 0.12972304 0.13034096\n",
            " 0.13092898 0.13149139 0.13203199 0.13255487 0.1330639  0.13356273\n",
            " 0.13405462 0.13454236 0.13502838 0.13551454 0.13600227 0.13649257\n",
            " 0.13698606 0.13748316 0.13798384 0.13848783]\n",
            "26 day output [[0.13899484]]\n",
            "27 day input [0.09966187 0.0903444  0.08541014 0.08969317 0.08846587 0.09430182\n",
            " 0.09675642 0.0910958  0.07428929 0.06930495 0.0639449  0.06376957\n",
            " 0.07165936 0.06359424 0.0626675  0.05808391 0.04809017 0.05703193\n",
            " 0.05783344 0.04566061 0.04889167 0.04553538 0.05705698 0.05838447\n",
            " 0.05983719 0.06675016 0.06654978 0.06993112 0.07288666 0.07105823\n",
            " 0.07120852 0.07772073 0.08583594 0.08939261 0.08771446 0.09297433\n",
            " 0.09790858 0.09056982 0.09380088 0.09665623 0.11015654 0.11937383\n",
            " 0.11243582 0.11974953 0.11291171 0.11028178 0.11063244 0.11774577\n",
            " 0.11611772 0.12145272 0.11739512 0.11448967 0.10429555 0.10537257\n",
            " 0.10659987 0.09986224 0.10289292 0.10161553 0.09635567 0.09785848\n",
            " 0.11068253 0.11769568 0.11211021 0.11529117 0.10958046 0.10434565\n",
            " 0.1092799  0.11458986 0.11559173 0.12275517 0.12062617 0.12663745\n",
            " 0.13134627 0.12068772 0.1228167  0.12447082 0.12574156 0.1267558\n",
            " 0.12761199 0.12837191 0.12906975 0.12972304 0.13034096 0.13092898\n",
            " 0.13149139 0.13203199 0.13255487 0.1330639  0.13356273 0.13405462\n",
            " 0.13454236 0.13502838 0.13551454 0.13600227 0.13649257 0.13698606\n",
            " 0.13748316 0.13798384 0.13848783 0.13899484]\n",
            "27 day output [[0.13950446]]\n",
            "28 day input [0.0903444  0.08541014 0.08969317 0.08846587 0.09430182 0.09675642\n",
            " 0.0910958  0.07428929 0.06930495 0.0639449  0.06376957 0.07165936\n",
            " 0.06359424 0.0626675  0.05808391 0.04809017 0.05703193 0.05783344\n",
            " 0.04566061 0.04889167 0.04553538 0.05705698 0.05838447 0.05983719\n",
            " 0.06675016 0.06654978 0.06993112 0.07288666 0.07105823 0.07120852\n",
            " 0.07772073 0.08583594 0.08939261 0.08771446 0.09297433 0.09790858\n",
            " 0.09056982 0.09380088 0.09665623 0.11015654 0.11937383 0.11243582\n",
            " 0.11974953 0.11291171 0.11028178 0.11063244 0.11774577 0.11611772\n",
            " 0.12145272 0.11739512 0.11448967 0.10429555 0.10537257 0.10659987\n",
            " 0.09986224 0.10289292 0.10161553 0.09635567 0.09785848 0.11068253\n",
            " 0.11769568 0.11211021 0.11529117 0.10958046 0.10434565 0.1092799\n",
            " 0.11458986 0.11559173 0.12275517 0.12062617 0.12663745 0.13134627\n",
            " 0.12068772 0.1228167  0.12447082 0.12574156 0.1267558  0.12761199\n",
            " 0.12837191 0.12906975 0.12972304 0.13034096 0.13092898 0.13149139\n",
            " 0.13203199 0.13255487 0.1330639  0.13356273 0.13405462 0.13454236\n",
            " 0.13502838 0.13551454 0.13600227 0.13649257 0.13698606 0.13748316\n",
            " 0.13798384 0.13848783 0.13899484 0.13950446]\n",
            "28 day output [[0.14001603]]\n",
            "29 day input [0.08541014 0.08969317 0.08846587 0.09430182 0.09675642 0.0910958\n",
            " 0.07428929 0.06930495 0.0639449  0.06376957 0.07165936 0.06359424\n",
            " 0.0626675  0.05808391 0.04809017 0.05703193 0.05783344 0.04566061\n",
            " 0.04889167 0.04553538 0.05705698 0.05838447 0.05983719 0.06675016\n",
            " 0.06654978 0.06993112 0.07288666 0.07105823 0.07120852 0.07772073\n",
            " 0.08583594 0.08939261 0.08771446 0.09297433 0.09790858 0.09056982\n",
            " 0.09380088 0.09665623 0.11015654 0.11937383 0.11243582 0.11974953\n",
            " 0.11291171 0.11028178 0.11063244 0.11774577 0.11611772 0.12145272\n",
            " 0.11739512 0.11448967 0.10429555 0.10537257 0.10659987 0.09986224\n",
            " 0.10289292 0.10161553 0.09635567 0.09785848 0.11068253 0.11769568\n",
            " 0.11211021 0.11529117 0.10958046 0.10434565 0.1092799  0.11458986\n",
            " 0.11559173 0.12275517 0.12062617 0.12663745 0.13134627 0.12068772\n",
            " 0.1228167  0.12447082 0.12574156 0.1267558  0.12761199 0.12837191\n",
            " 0.12906975 0.12972304 0.13034096 0.13092898 0.13149139 0.13203199\n",
            " 0.13255487 0.1330639  0.13356273 0.13405462 0.13454236 0.13502838\n",
            " 0.13551454 0.13600227 0.13649257 0.13698606 0.13748316 0.13798384\n",
            " 0.13848783 0.13899484 0.13950446 0.14001603]\n",
            "29 day output [[0.14052904]]\n",
            "[[0.12068772315979004], [0.12281669676303864], [0.12447081506252289], [0.12574155628681183], [0.12675580382347107], [0.12761199474334717], [0.12837190926074982], [0.1290697455406189], [0.12972304224967957], [0.13034096360206604], [0.13092897832393646], [0.13149139285087585], [0.13203199207782745], [0.13255487382411957], [0.1330638974905014], [0.13356272876262665], [0.13405461609363556], [0.13454236090183258], [0.13502837717533112], [0.1355145424604416], [0.13600227236747742], [0.1364925652742386], [0.13698606193065643], [0.1374831646680832], [0.13798384368419647], [0.1384878307580948], [0.13899484276771545], [0.13950446248054504], [0.14001603424549103], [0.14052903652191162]]\n"
          ]
        }
      ]
    },
    {
      "cell_type": "code",
      "source": [
        "day_new=np.arange(1,101)\n",
        "day_pred=np.arange(101,131)"
      ],
      "metadata": {
        "id": "QtK9H3bwBvRi"
      },
      "execution_count": null,
      "outputs": []
    },
    {
      "cell_type": "code",
      "source": [
        "len(df1)"
      ],
      "metadata": {
        "colab": {
          "base_uri": "https://localhost:8080/"
        },
        "id": "V2L4MfRoB-XC",
        "outputId": "6632c805-3d2f-4815-a5bb-faa1f31ab92c"
      },
      "execution_count": null,
      "outputs": [
        {
          "output_type": "execute_result",
          "data": {
            "text/plain": [
              "1258"
            ]
          },
          "metadata": {},
          "execution_count": 92
        }
      ]
    },
    {
      "cell_type": "code",
      "source": [
        "plt.plot(day_new,scaler.inverse_transform(df1[1158:]))\n",
        "plt.plot(day_pred,scaler.inverse_transform(lst_output))"
      ],
      "metadata": {
        "colab": {
          "base_uri": "https://localhost:8080/",
          "height": 283
        },
        "id": "azKPbUtgCFfK",
        "outputId": "a6fd637d-7f64-4e3a-887a-0fee575d25e4"
      },
      "execution_count": null,
      "outputs": [
        {
          "output_type": "execute_result",
          "data": {
            "text/plain": [
              "[<matplotlib.lines.Line2D at 0x7f2e40b19df0>]"
            ]
          },
          "metadata": {},
          "execution_count": 94
        },
        {
          "output_type": "display_data",
          "data": {
            "text/plain": [
              "<Figure size 432x288 with 1 Axes>"
            ],
            "image/png": "[encoded data removed]"
          },
          "metadata": {
            "needs_background": "light"
          }
        }
      ]
    },
    {
      "cell_type": "code",
      "source": [
        "df3=df1.tolist()\n",
        "df3.extend(lst_output)\n",
        "plt.plot(df3[1200:])"
      ],
      "metadata": {
        "colab": {
          "base_uri": "https://localhost:8080/",
          "height": 283
        },
        "id": "_ea274KVCJZh",
        "outputId": "d63d9087-63b4-4fa8-eb49-a7c884f8d9b1"
      },
      "execution_count": null,
      "outputs": [
        {
          "output_type": "execute_result",
          "data": {
            "text/plain": [
              "[<matplotlib.lines.Line2D at 0x7f2e409947c0>]"
            ]
          },
          "metadata": {},
          "execution_count": 95
        },
        {
          "output_type": "display_data",
          "data": {
            "text/plain": [
              "<Figure size 432x288 with 1 Axes>"
            ],
            "image/png": "[encoded data removed]"
          },
          "metadata": {
            "needs_background": "light"
          }
        }
      ]
    },
    {
      "cell_type": "code",
      "source": [
        "df3=scaler.inverse_transform(df3).tolist()"
      ],
      "metadata": {
        "id": "NlIjCvxKCkrr"
      },
      "execution_count": null,
      "outputs": []
    },
    {
      "cell_type": "code",
      "source": [
        "plt.plot(df3)"
      ],
      "metadata": {
        "colab": {
          "base_uri": "https://localhost:8080/",
          "height": 283
        },
        "id": "8IT1C7SnCn1R",
        "outputId": "77768a84-527b-4554-dd4f-1327f321ffe1"
      },
      "execution_count": null,
      "outputs": [
        {
          "output_type": "execute_result",
          "data": {
            "text/plain": [
              "[<matplotlib.lines.Line2D at 0x7f2e4094dd30>]"
            ]
          },
          "metadata": {},
          "execution_count": 98
        },
        {
          "output_type": "display_data",
          "data": {
            "text/plain": [
              "<Figure size 432x288 with 1 Axes>"
            ],
            "image/png": "[encoded data removed]"
          },
          "metadata": {
            "needs_background": "light"
          }
        }
      ]
    }
  ]
}